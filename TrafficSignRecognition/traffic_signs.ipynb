{
 "cells": [
  {
   "cell_type": "code",
   "execution_count": 3,
   "id": "0f162995",
   "metadata": {},
   "outputs": [],
   "source": [
    "import numpy as np \n",
    "import pandas as pd \n",
    "import matplotlib.pyplot as plt \n",
    "import tensorflow as tf \n",
    "from PIL import Image\n",
    "import os "
   ]
  },
  {
   "cell_type": "code",
   "execution_count": 4,
   "id": "651f48c6",
   "metadata": {},
   "outputs": [],
   "source": [
    "from sklearn.model_selection import train_test_split\n",
    "from tensorflow.keras.utils import to_categorical\n",
    "from tensorflow.keras.models import Sequential \n",
    "from tensorflow.keras.layers import Conv2D,MaxPool2D,Dense,Flatten,Dropout\n"
   ]
  },
  {
   "cell_type": "code",
   "execution_count": 5,
   "id": "7190eba8",
   "metadata": {},
   "outputs": [],
   "source": [
    "data = []\n",
    "labels = []\n",
    "classes = 43 \n",
    "cur_path = os.getcwd()\n"
   ]
  },
  {
   "cell_type": "code",
   "execution_count": 6,
   "id": "83d7d4cb",
   "metadata": {},
   "outputs": [
    {
     "name": "stdout",
     "output_type": "stream",
     "text": [
      "E:\\MiniProject\\TraficSignRecognition\\data\\train\n"
     ]
    }
   ],
   "source": [
    "print(os.path.join(cur_path,'data' , 'train'))\n"
   ]
  },
  {
   "cell_type": "code",
   "execution_count": null,
   "id": "2fbd3b83",
   "metadata": {},
   "outputs": [
    {
     "name": "stdout",
     "output_type": "stream",
     "text": [
      "Entering class 0 ........\n",
      "Entering class 1 ........\n",
      "Completed 1000 images in 1 class.\n",
      "Completed 2000 images in 1 class.\n",
      "Entering class 2 ........\n",
      "Completed 1000 images in 2 class.\n",
      "Completed 2000 images in 2 class.\n",
      "Entering class 3 ........\n",
      "Completed 1000 images in 3 class.\n",
      "Entering class 4 ........\n"
     ]
    }
   ],
   "source": [
    "for i in range(classes):\n",
    "\tpath = os.path.join(cur_path,'data','train',str(i))\n",
    "\timages = os.listdir(path)\n",
    "\tprint(\"Entering class \" + str(i) +\" ........\")\n",
    "\tj = 0 \n",
    "\tfor a in images:\n",
    "\t\tj+=1\n",
    "\t\tif j%1000 == 0:\n",
    "\t\t\tprint(\"Completed \" + str(j) + \" images in \" + str(i) + \" class.\" )\n",
    "\t\ttry:\n",
    "\t\t\timage = Image.open(path+'\\\\'+a)\n",
    "\t\t\timage  = image.resize((30,30))\n",
    "\t\t\timage = np.array(image)\n",
    "\t\t\tdata.append(image)\n",
    "\t\t\tlabels.append(i)\n",
    "\t\texcept:\n",
    "\t\t\tprint(\"Error Loading Image ... \")"
   ]
  },
  {
   "cell_type": "code",
   "execution_count": 6,
   "id": "81541a39",
   "metadata": {},
   "outputs": [
    {
     "name": "stdout",
     "output_type": "stream",
     "text": [
      "(39209, 30, 30, 3) (39209, 1)\n"
     ]
    }
   ],
   "source": [
    "#Converting lists into numpy arrays\n",
    "data = np.array(data)\n",
    "labels = np.array(labels)\n",
    "labels = np.asarray(labels).astype('float32').reshape((-1,1))\n",
    "print(data.shape, labels.shape)"
   ]
  },
  {
   "cell_type": "code",
   "execution_count": 7,
   "id": "2b3b80cf",
   "metadata": {},
   "outputs": [
    {
     "name": "stdout",
     "output_type": "stream",
     "text": [
      "(31367, 30, 30, 3) (7842, 30, 30, 3) (31367, 1) (7842, 1)\n"
     ]
    }
   ],
   "source": [
    "#Splitting training and testing dataset\n",
    "X_train, X_test, y_train, y_test = train_test_split(data, labels, test_size=0.2, random_state=42)\n",
    "\n",
    "print(X_train.shape, X_test.shape, y_train.shape, y_test.shape)"
   ]
  },
  {
   "cell_type": "code",
   "execution_count": 8,
   "id": "da9e5fbb",
   "metadata": {},
   "outputs": [],
   "source": [
    "#Converting the labels into one hot encoding\n",
    "y_train = to_categorical(y_train, 43)\n",
    "y_test = to_categorical(y_test, 43)"
   ]
  },
  {
   "cell_type": "code",
   "execution_count": 9,
   "id": "0ae0df5c",
   "metadata": {},
   "outputs": [],
   "source": [
    "#Building the model\n",
    "model = Sequential()\n",
    "model.add(Conv2D(filters=32, kernel_size=(5,5), activation='relu', input_shape=X_train.shape[1:]))\n",
    "model.add(Conv2D(filters=32, kernel_size=(5,5), activation='relu'))\n",
    "model.add(MaxPool2D(pool_size=(2, 2)))\n",
    "model.add(Dropout(rate=0.25))\n",
    "model.add(Conv2D(filters=64, kernel_size=(3, 3), activation='relu'))\n",
    "model.add(Conv2D(filters=64, kernel_size=(3, 3), activation='relu'))\n",
    "model.add(MaxPool2D(pool_size=(2, 2)))\n",
    "model.add(Dropout(rate=0.25))\n",
    "model.add(Flatten())\n",
    "model.add(Dense(256, activation='relu'))\n",
    "model.add(Dropout(rate=0.5))\n",
    "model.add(Dense(43, activation='sigmoid'))"
   ]
  },
  {
   "cell_type": "code",
   "execution_count": 10,
   "id": "ecb4fd13",
   "metadata": {},
   "outputs": [],
   "source": [
    "#Compilation of the model\n",
    "model.compile(loss='binary_crossentropy', optimizer='adam', metrics=['accuracy'])"
   ]
  },
  {
   "cell_type": "code",
   "execution_count": 11,
   "id": "c7131db1",
   "metadata": {},
   "outputs": [
    {
     "name": "stdout",
     "output_type": "stream",
     "text": [
      "Epoch 1/15\n",
      "981/981 [==============================] - 85s 85ms/step - loss: 0.2371 - accuracy: 0.2269 - val_loss: 0.0262 - val_accuracy: 0.8439\n",
      "Epoch 2/15\n",
      "981/981 [==============================] - 82s 84ms/step - loss: 0.0384 - accuracy: 0.7197 - val_loss: 0.0133 - val_accuracy: 0.9287\n",
      "Epoch 3/15\n",
      "981/981 [==============================] - 78s 80ms/step - loss: 0.0229 - accuracy: 0.8475 - val_loss: 0.0067 - val_accuracy: 0.9638\n",
      "Epoch 4/15\n",
      "981/981 [==============================] - 80s 82ms/step - loss: 0.0168 - accuracy: 0.8926 - val_loss: 0.0063 - val_accuracy: 0.9649\n",
      "Epoch 5/15\n",
      "981/981 [==============================] - 80s 81ms/step - loss: 0.0129 - accuracy: 0.9207 - val_loss: 0.0049 - val_accuracy: 0.9716\n",
      "Epoch 6/15\n",
      "981/981 [==============================] - 79s 80ms/step - loss: 0.0113 - accuracy: 0.9356 - val_loss: 0.0037 - val_accuracy: 0.9778\n",
      "Epoch 7/15\n",
      "981/981 [==============================] - 79s 81ms/step - loss: 0.0102 - accuracy: 0.9426 - val_loss: 0.0031 - val_accuracy: 0.9816\n",
      "Epoch 8/15\n",
      "981/981 [==============================] - 79s 81ms/step - loss: 0.0087 - accuracy: 0.9519 - val_loss: 0.0022 - val_accuracy: 0.9876\n",
      "Epoch 9/15\n",
      "981/981 [==============================] - 75s 76ms/step - loss: 0.0080 - accuracy: 0.9556 - val_loss: 0.0023 - val_accuracy: 0.9872\n",
      "Epoch 10/15\n",
      "981/981 [==============================] - 75s 77ms/step - loss: 0.0081 - accuracy: 0.9553 - val_loss: 0.0025 - val_accuracy: 0.9842\n",
      "Epoch 11/15\n",
      "981/981 [==============================] - 74s 76ms/step - loss: 0.0071 - accuracy: 0.9598 - val_loss: 0.0025 - val_accuracy: 0.9843\n",
      "Epoch 12/15\n",
      "981/981 [==============================] - 75s 76ms/step - loss: 0.0071 - accuracy: 0.9605 - val_loss: 0.0020 - val_accuracy: 0.9878\n",
      "Epoch 13/15\n",
      "981/981 [==============================] - 74s 76ms/step - loss: 0.0070 - accuracy: 0.9643 - val_loss: 0.0017 - val_accuracy: 0.9884\n",
      "Epoch 14/15\n",
      "981/981 [==============================] - 75s 76ms/step - loss: 0.0072 - accuracy: 0.9634 - val_loss: 0.0016 - val_accuracy: 0.9913\n",
      "Epoch 15/15\n",
      "981/981 [==============================] - 74s 75ms/step - loss: 0.0058 - accuracy: 0.9706 - val_loss: 0.0016 - val_accuracy: 0.9897\n"
     ]
    }
   ],
   "source": [
    "epochs = 15\n",
    "history = model.fit(X_train, y_train, batch_size=32, epochs=epochs, validation_data=(X_test, y_test))\n",
    "model.save(\"my_model.h5\")"
   ]
  },
  {
   "cell_type": "code",
   "execution_count": 12,
   "id": "0440dce7",
   "metadata": {},
   "outputs": [
    {
     "data": {
      "image/png": "[encoded data removed]",
      "text/plain": [
       "<Figure size 432x288 with 1 Axes>"
      ]
     },
     "metadata": {
      "needs_background": "light"
     },
     "output_type": "display_data"
    },
    {
     "data": {
      "text/plain": [
       "<Figure size 432x288 with 0 Axes>"
      ]
     },
     "metadata": {},
     "output_type": "display_data"
    }
   ],
   "source": [
    "#plotting graphs for accuracy \n",
    "plt.figure(0)\n",
    "plt.plot(history.history['accuracy'], label='training accuracy')\n",
    "plt.plot(history.history['val_accuracy'], label='val accuracy')\n",
    "plt.title('Accuracy')\n",
    "plt.xlabel('epochs')\n",
    "plt.ylabel('accuracy')\n",
    "plt.legend()\n",
    "plt.show()\n",
    "plt.savefig('plot1.png')"
   ]
  },
  {
   "cell_type": "code",
   "execution_count": 13,
   "id": "e326e798",
   "metadata": {},
   "outputs": [
    {
     "data": {
      "image/png": "[encoded data removed]",
      "text/plain": [
       "<Figure size 432x288 with 1 Axes>"
      ]
     },
     "metadata": {
      "needs_background": "light"
     },
     "output_type": "display_data"
    },
    {
     "data": {
      "text/plain": [
       "<Figure size 432x288 with 0 Axes>"
      ]
     },
     "metadata": {},
     "output_type": "display_data"
    }
   ],
   "source": [
    "plt.figure(1)\n",
    "plt.plot(history.history['loss'], label='training loss')\n",
    "plt.plot(history.history['val_loss'], label='val loss')\n",
    "plt.title('Loss')\n",
    "plt.xlabel('epochs')\n",
    "plt.ylabel('loss')\n",
    "plt.legend()\n",
    "plt.show()\n",
    "plt.savefig('plot2.png')"
   ]
  },
  {
   "cell_type": "code",
   "execution_count": 20,
   "id": "d1a77c21",
   "metadata": {},
   "outputs": [
    {
     "name": "stdout",
     "output_type": "stream",
     "text": [
      "[16, 1, 38, 33, 11, 38, 18, 12, 25, 35, 12, 7, 23, 7, 4, 9, 21, 20, 27, 38, 4, 33, 9, 3, 1, 11, 13, 10, 9, 11, 5, 17, 34, 23, 2, 17, 3, 12, 16, -1, 7, 30, 18, 12, 24, 25, 3, 10, 18, -1, 31, 13, 15, 9, 13, 35, 5, 26, 9, 16, 38, 10, 4, 9, 15, 9, 26, 2, 5, 28, 11, 25, 11, 34, 5, 12, 1, 10, 25, 25, 21, 33, 25, -1, 10, 35, 3, 7, 22, 13, 3, 1, 2, 14, 12, 32, 3, 38, 9, 33, 1, 10, 5, 11, 33, 4, 35, 25, 33, 4, 1, 14, 16, 10, -1, 3, 27, 23, 1, 17, 13, 7, 1, 8, 2, 10, 10, -1, 1, 6, 36, 3, 14, 13, 11, 10, 18, 40, 2, 38, 41, 4, 6, 18, 17, 25, 2, 41, 11, 21, 7, 24, 11, 25, 17, 3, 6, 9, 7, 4, 13, 16, 4, -1, 18, 9, 13, 14, 29, 17, 13, 38, 26, 25, 33, 1, -1, 40, 13, 2, 8, 4, 36, 25, 20, 25, 18, 1, 10, 8, 10, 29, 12, 38, 31, 2, 8, 38, -1, 28, 17, 9, 4, 1, 17, 9, 2, 31, 13, 15, 15, 38, 25, 5, 25, 13, 10, 5, 4, 10, 2, 4, 5, 1, 14, 12, 12, 5, 8, 36, 25, 13, 33, 18, 33, -1, 12, -1, 4, 18, 12, 13, 20, 0, 10, 40, -1, 8, 12, 38, 20, 14, 0, 36, 34, 28, 35, 13, 25, 15, 35, 14, 18, 25, 1, -1, 5, 25, 2, 18, -1, 18, 34, 9, 25, 18, 34, 39, 31, 1, 9, 35, 31, 26, 1, 1, 33, -1, 17, 13, 1, 31, 13, 35, 5, 1, 33, 28, 35, 26, 12, 5, 2, 14, 5, 5, 32, 1, 7, -1, 19, 11, 38, 38, -1, 42, 2, 40, 17, 4, 8, 4, 5, 6, 31, 35, 9, 38, 8, 2, 4, 18, 3, 25, 10, 5, 7, 34, 4, -1, 10, 24, 9, 2, 38, 38, 18, 7, 13, 28, 17, 2, 16, 14, 12, 40, 35, 3, 38, 10, 9, 38, 13, 39, 3, 11, 7, 38, 19, 13, 10, 18, 3, 5, -1, 1, 41, 13, 1, 18, 19, 13, 38, 4, 35, 25, 34, 12, 17, 9, 4, 33, 28, 2, 1, 5, 4, 38, 4, 12, 38, 36, 10, 0, 38, 36, 8, 25, 5, 2, 25, 14, 2, 26, 29, 10, 10, 14, 9, 2, 3, -1, 19, 9, 10, 13, 13, 20, 38, 34, 30, 13, 34, 34, 12, 6, 10, 10, 8, 3, 22, 17, 7, 23, 25, 1, 31, 38, 38, 8, 9, -1, 2, 40, 1, 38, 14, 8, 39, 5, 35, 25, 25, 17, 2, 38, 7, 13, 14, 7, 8, 35, 3, 1, 35, 12, 35, 36, 24, 13, 33, 2, 35, 6, 2, 10, 12, 31, 9, 14, 17, 26, 12, 3, -1, 5, 11, 9, 31, -1, 22, 30, 9, 7, 23, 4, 32, 42, 1, 3, 8, 2, 25, 22, 38, 33, 3, 1, 8, 4, 18, 26, 31, 14, 11, 13, 3, 5, 18, 4, 13, 15, 23, 1, 12, 31, 38, -1, 10, 35, 8, 6, 5, 12, 4, 1, 1, 1, 12, 12, -1, 5, 9, 13, 38, 4, 13, 8, 13, 24, 17, 10, 10, 18, 12, 23, 10, -1, 1, 23, 3, 8, 41, 6, 13, 33, 3, 2, 13, 0, 17, 10, 7, 1, 35, 10, 2, 30, 5, 5, 35, 13, 16, 17, 11, 3, -1, 29, 2, 26, 2, 11, 4, 19, 3, 9, 7, 38, 28, 9, 27, 41, 1, 29, 11, 10, 25, 1, 10, -1, 30, 14, 1, 12, 7, 13, 28, 8, 2, 17, 5, 35, 25, 8, 4, 7, 16, 23, 17, 9, 7, 8, 17, 11, 2, 13, 12, 7, 1, 2, 32, 17, 13, 5, 12, 11, 29, 13, 13, 10, 5, 13, 2, 7, 13, 10, 14, 13, 11, 4, 15, 10, 36, 35, 26, 0, 25, 18, -1, 8, 13, 14, -1, 12, 35, 35, 14, 25, 17, 34, 5, 4, 4, 13, 29, 4, 5, 8, 1, 2, 3, 4, 39, 12, 7, 16, 12, 12, 18, 16, 2, 36, 11, 39, 4, 42, 2, 36, 1, 5, 10, 13, 5, 30, 38, 13, 14, 11, 11, 35, 25, 2, 14, 38, 15, 38, 39, 38, 4, 1, 3, 1, 35, 17, 4, 17, 4, 2, 5, 30, 10, 28, 9, 28, 22, 42, 2, 12, 3, 23, 3, 13, 10, 3, 12, 4, 1, 5, 3, 9, 10, 4, 13, 28, 3, 4, 15, 15, 0, 33, 2, 39, 12, 38, 7, 10, 2, 10, 2, -1, 2, 5, 1, 3, 1, 42, 15, 15, 4, 15, 38, 25, 5, 5, 12, 2, -1, 0, 17, 0, 26, 31, 4, 13, 17, 1, 11, 8, 1, 2, 4, 14, 3, 4, 25, 4, 15, 2, 38, -1, 37, 7, 1, 18, 28, 11, 10, 9, 15, 11, 12, 10, 13, 13, 25, -1, 1, 38, 12, 23, 10, 2, 1, 29, 24, 10, 1, 28, 3, 11, 5, 6, -1, 2, 1, 33, 3, 9, 25, 16, 42, 35, 10, 28, 4, 1, 7, 5, 3, 23, 1, 1, -1, 23, 35, 24, 33, 1, 12, 2, 13, 13, 33, 17, 35, 5, 15, 31, 33, 42, 11, 24, 38, 4, 27, 7, 13, 21, -1, 38, 1, 13, 23, 13, -1, 13, 13, 38, 35, 5, 12, 25, 4, 1, 19, 3, 9, 2, 3, 17, 38, 5, 5, 38, 1, 11, 31, 2, 42, 12, 35, 29, 38, 0, 38, 10, 13, 1, 34, 22, 12, 31, 15, 13, 31, 1, 42, 36, 7, 20, 27, 15, 12, 14, 10, 5, 32, 3, 7, 13, 12, 7, 13, 4, 10, 8, 23, 10, 39, 2, 13, 7, 1, 5, 31, 10, 5, 31, 7, 39, 8, 23, 7, 38, 35, 38, 25, 38, 9, 16, 17, 1, 12, 12, -1, 5, -1, 3, 12, 12, 8, 10, 2, -1, 12, 35, 15, 4, 35, 5, 14, 1, 11, 35, 38, 30, 11, 4, 12, 1, 18, 8, 11, 41, 31, 2, 8, 2, 35, 13, 38, 9, 12, 7, 12, 31, 2, 11, 17, 35, 4, 18, 4, 34, 40, 11, 11, 33, 15, 13, 5, 12, 13, 13, 12, -1, 31, 32, 4, 41, 8, 2, 8, 39, 14, 42, 4, 7, 11, 31, 2, 2, 13, 10, 2, 8, 18, 4, 5, 4, 16, 33, 1, 18, 31, 37, 30, 9, 18, 5, 35, 20, 2, 20, 23, 5, 8, 9, 38, 12, 35, 5, 11, 10, 12, 33, 8, 38, 3, 32, 31, 41, 35, 40, 13, 7, 12, 8, 13, 1, 13, 8, 40, 4, 4, 5, 17, 18, 12, 35, 8, 33, 3, 15, 12, 14, 9, 4, 5, 31, 32, 3, 25, 1, 10, 33, 4, 35, 9, 1, 32, 4, 13, 17, 4, 6, 26, 38, 2, 20, 11, 41, 38, 34, 38, 39, 1, -1, 5, 9, 26, 17, 31, 24, 37, 12, 22, 5, 8, 15, 10, 2, 2, 10, 7, 10, 14, 9, 8, 14, 1, 5, 25, 4, 3, 29, 40, 16, 35, 30, 18, 12, 39, 12, 30, 12, 13, 9, 9, 11, 13, 17, 29, 14, 17, 26, 1, 13, 11, 10, 5, 5, 4, 4, 3, 34, 23, 4, 7, 14, 12, 22, 37, 35, 12, 28, 28, 2, 3, 12, 10, 1, 8, 17, 37, 12, 31, 11, 9, 5, 5, 8, 9, 5, 10, 38, 42, 18, 2, 14, 2, 12, 3, 2, 42, 8, -1, 14, 5, 0, 2, 1, 14, 36, 11, 13, 11, 10, 8, 34, 4, 38, 14, 2, 7, 17, 29, 33, 28, 7, 38, 18, 14, 1, 33, 16, 4, 19, 23, 6, 5, 8, 8, 10, 34, 35, 5, -1, 13, 35, 38, 9, 15, 10, 14, 26, 42, 26, 13, 17, 10, 4, 4, 9, 1, 2, 34, 1, 42, 31, 13, 9, 13, 12, 38, 8, 35, 38, 7, 2, 5, 12, 25, 8, 2, 12, 28, 12, 2, 2, 26, 3, 8, 11, 8, 10, 12, 5, 40, 2, 33, 25, 2, 41, 16, 18, 8, 3, 34, 31, 9, 9, 13, 38, 7, 4, 4, 13, 12, 18, 8, 38, 25, 5, 2, 42, 13, 35, 10, 12, 33, 13, -1, 2, 38, 10, 13, 17, 12, 1, 15, 7, 18, 34, 38, 12, 3, 3, 4, 12, 12, 10, 30, 14, 12, 14, 10, 4, 17, 7, 13, -1, 17, 8, 23, 18, 11, 38, 10, 10, 5, 25, 18, 4, 11, 31, 12, 1, 8, 12, 35, 11, 3, 4, 2, 18, 38, 5, 38, 13, 10, 3, 42, 34, 31, 26, 8, 5, 7, 20, 15, 2, 3, 10, 13, -1, 2, -1, 4, 31, 25, 13, 1, 2, 8, 12, 2, 32, 12, 15, 12, 2, 5, 5, 7, 34, 38, 7, 2, 8, 2, 8, 8, 9, 7, 13, 1, 5, 38, 17, 5, 10, -1, 13, 30, 1, 3, 42, 16, 0, 8, 8, 17, 13, 20, 18, 38, 2, 12, 38, 13, 1, 11, 14, 5, 3, 38, 39, 5, 25, 10, 29, 3, 9, 25, 38, 2, 5, 25, 25, 13, 10, 5, 3, 38, 1, 4, 28, 2, 20, 42, 2, 38, 38, 22, 1, 25, 10, 2, 5, 17, 1, 20, 5, 9, 38, 38, 28, 3, 28, 6, 13, 30, -1, 2, 7, 17, 35, 14, 13, 10, 38, 17, 10, 11, 8, 15, -1, 2, 4, 38, 6, 1, 25, 7, 8, 18, 3, 8, 13, 16, 23, 42, 16, -1, 2, 9, 32, 12, 2, 7, 7, 38, 12, 7, 25, 38, 38, 31, 9, 11, 10, 25, 12, 20, 5, 10, 2, 23, 9, 33, 13, 35, 19, 8, 5, 34, 9, 10, 1, 35, 17, 13, 10, 38, 13, 7, 26, 12, 14, 7, 28, 17, 31, 2, 25, 16, 6, 12, 38, 17, -1, 9, 7, 15, 22, 7, 1, 38, 13, 13, 25, -1, 23, 31, 38, 7, 38, 1, 25, 7, 34, 9, 17, 5, 26, 17, 30, 38, 27, 6, 5, 32, 25, 16, 35, 18, 7, 8, 23, 1, 1, 40, 23, 42, 10, 9, 10, 11, 10, 10, 13, 13, 15, 12, 38, 8, 40, 31, 4, 2, 33, 18, 1, 2, 12, -1, 15, 17, 10, 13, 36, 25, 2, 10, 5, 39, 12, 8, 38, 26, 20, 31, 11, 38, 5, 9, 7, 36, 31, 20, 37, 17, 9, 23, 34, 14, 2, 1, 18, 3, 3, 39, 10, 2, 12, 11, 3, 35, 35, 33, -1, 8, 10, 35, 25, 31, 5, 1, 7, 40, 11, 38, 8, 25, 12, 14, 31, 7, 9, 13, 22, 24, 7, 11, 28, 38, 16, 9, 35, 12, 4, 12, 9, 36, 10, 8, 18, 13, 5, 5, 28, 13, 35, 30, 4, 14, 23, 35, 38, 7, 5, 5, 16, 4, 2, 15, 4, 17, 35, 27, 33, 2, 29, 2, 11, 4, 10, 14, 13, 35, 28, 13, 0, 29, 5, 24, -1, 10, 38, 9, 42, 5, 1, 13, 31, 9, 33, 25, 25, 10, 33, 9, 12, 14, 38, 38, 2, 7, 25, 5, 15, 12, 1, 3, 1, 18, 8, 16, 39, 13, 10, 1, 4, 2, 17, 23, 9, 21, 38, 10, 10, 31, 2, 36, 38, 2, 31, 38, 8, -1, 25, 9, 38, 34, 38, 29, 16, 25, 35, 8, 22, 5, 13, 4, 11, 34, 31, 25, 1, 13, 8, 1, 12, 2, 17, 8, 23, 5, 5, 5, 15, 1, 10, 11, 8, 25, 18, 17, 10, 15, 25, 5, 4, 4, 1, 4, 7, 40, 11, 1, 20, 17, 26, 38, 12, 7, 4, 1, -1, 9, 9, 5, 1, 34, 12, 30, 12, 10, 3, 10, 17, 10, 7, 10, 25, 2, 22, 8, 38, 7, 2, 22, 11, 11, 13, 35, 12, 3, 3, 34, 38, -1, 11, 9, 26, 17, 2, 4, 35, 36, 12, 38, 10, 22, 38, 8, -1, 9, 17, 3, 25, 7, 4, 1, 36, 1, 38, 4, 25, 10, 7, 38, 13, 14, 35, 26, 35, 25, 12, 13, 4, 7, 1, 3, 0, 38, 7, 2, 13, 39, 1, 25, 3, 26, 1, 32, -1, 12, 9, 14, 9, 2, 2, 5, 26, 11, 12, 15, -1, 11, 12, 30, 1, 9, 18, 36, 7, 38, 17, 2, 9, 15, 13, 10, 31, -1, 18, 1, 13, 31, 28, 9, 11, 25, 37, 25, 12, 18, 1, 29, 31, 7, 2, 2, 6, 7, 4, 36, -1, 2, 17, 18, 5, 2, 13, 26, 7, 9, 3, 38, 18, 11, 13, 26, 13, 10, 5, 16, 13, 16, 9, 3, 16, 13, 35, 13, 10, 36, 1, 38, 17, 12, 11, 2, 4, 13, 18, 12, 33, 11, 36, 31, 7, 1, 5, 10, -1, 3, 40, 0, 4, 9, 2, 2, 2, 13, 16, 13, 2, 18, 2, 18, 6, 9, 2, 17, 14, 5, 12, 5, 26, 3, 17, 40, 38, 14, 16, 5, 8, 4, 5, 4, 11, 5, 13, 2, 11, 12, 4, 7, 38, 33, 10, 33, 12, 14, 38, 1, 23, 7, 27, 35, 10, 4, 1, 11, 35, 42, 28, 8, 12, 5, 18, 35, 17, 4, 8, 26, 17, 14, 8, 15, 10, 5, 8, 6, 14, 10, 35, 1, 13, 22, 16, 1, 35, 5, 13, 38, 7, 1, 4, 25, 11, 3, 12, 2, 12, 15, 10, 10, 13, 6, 23, 13, 25, 2, 12, 13, 2, 12, 13, 4, 16, 20, 12, 25, 10, 1, 7, 38, 5, 13, 9, 4, 38, 10, 17, 30, 13, 1, 14, 10, 10, 33, 2, 13, 2, 7, 36, 6, 1, 12, 17, 17, 1, 4, 1, 34, 3, 5, 35, 1, 1, 4, 13, 21, 25, 3, 7, 5, 3, 7, 2, 5, 15, 19, 2, 10, 14, 28, 38, 42, 36, 17, 1, 2, 38, 8, 16, 7, 13, -1, 1, 25, 32, 5, 29, 4, 13, 35, 33, 5, -1, -1, 18, 1, 11, 33, 10, 30, 30, 5, 31, 12, 2, 2, 1, 8, 13, 21, 2, 1, 25, 8, 33, -1, 17, 25, -1, -1, 11, 2, 7, 22, 10, 4, 25, -1, 10, 18, 1, 11, 17, -1, 2, -1, 5, 7, 5, 28, 12, 8, 23, 38, 1, 34, 23, 2, 8, 38, 9, 38, 8, 25, 13, 38, 13, 4, 31, 12, 8, 31, 22, 6, -1, 10, 33, -1, 1, 4, 12, 35, 25, 5, 11, 13, 7, 14, 8, 11, 1, 11, 17, 35, 4, 25, 6, 19, 9, 11, 35, 38, 25, 2, 9, 13, 2, 13, 18, 11, 38, 10, 2, 9, 12, 2, 9, 5, 1, 10, 25, 1, 38, 16, 38, 23, 12, 12, 31, 6, 11, 25, 17, 25, 36, 9, 40, 13, 25, 4, 9, 22, 2, 1, 13, 3, 4, 38, 12, 32, 12, 23, 39, 35, 31, 40, 2, 9, 5, 8, 20, 5, 9, 2, 11, 12, 29, 17, 8, 3, 15, 3, 13, -1, 13, 4, 1, 25, 5, 26, 25, 10, 1, 8, 40, 9, 10, 3, 25, 25, 12, 10, 13, 39, 17, 7, 17, 9, 12, 1, 9, 10, 4, 9, 18, 7, 4, 1, 23, 2, 4, 35, 11, 9, 5, 2, 7, 25, 14, 26, 23, 5, 18, 2, -1, 25, -1, 22, 12, 1, 14, 34, 33, 19, 2, 12, 9, 17, 26, 13, 14, 3, 2, 2, 5, 17, 25, 17, 30, 30, -1, 35, 4, 2, 2, 28, 33, 33, 33, 27, 24, 25, 9, 16, 12, 1, 5, 34, 10, 25, 25, 35, 5, 13, 5, 7, 4, 34, 15, 7, 13, 1, 23, 35, 5, 13, 5, 28, 13, 12, 11, 25, 34, 10, 3, 5, 31, 11, 11, 37, 12, 25, 9, 13, 30, 25, 25, 12, 12, 23, 15, 13, 1, 25, 8, 13, 3, 10, 18, 42, 9, 16, 4, 12, 15, 25, 6, 41, 1, 1, 2, 30, 13, 33, 38, 4, -1, 7, 2, 35, 10, 38, 4, 1, 13, 11, 38, 7, 5, 5, 35, 37, 38, 38, 1, 33, -1, 26, 25, 25, 10, 1, 1, 1, 16, 5, 23, 10, 9, 17, 2, 12, 9, 18, -1, 10, 2, 15, 12, 4, 25, 10, 12, 5, 13, 2, 3, 28, 1, 23, -1, 1, 9, 2, 38, 12, 1, -1, 13, 9, -1, 0, 5, 38, 5, 4, 18, 3, 36, 30, 10, 38, 16, 2, 31, 24, 38, 25, 17, 12, 29, 4, 10, 14, 11, 25, 18, 4, 4, 8, 25, 18, 7, 38, 3, 13, 31, 8, 21, 31, 38, 2, 2, 34, 10, 7, 10, 38, 8, 4, 12, 28, 5, 39, 41, 10, 13, 38, 38, 19, 1, -1, 6, 39, 3, 1, 19, 32, 38, 12, 8, 35, 12, 38, 17, 2, 1, 14, 35, 12, 35, 34, 17, 42, 1, 5, 31, 6, 28, 12, 38, 11, 5, 8, 8, 23, -1, 2, 1, 25, 10, 31, 3, 18, 18, 13, 18, 13, 34, 5, 4, 1, 23, 30, 4, 12, 1, 38, 1, 12, 25, 14, 38, 1, 17, 9, 16, 13, -1, 39, 2, 8, 2, 10, 25, 10, 4, 4, 10, 9, 39, 7, 22, 40, 4, 12, 10, -1, 12, 13, 34, 4, 2, 5, 25, 37, -1, 15, 14, 15, 12, 26, 18, 9, 17, 1, 7, 23, 1, 35, 11, 7, 10, 1, 13, 10, 9, 1, 10, 0, 1, 13, 10, 13, 2, 18, 13, 4, 2, 8, 16, 17, 18, 39, 15, 5, 9, 15, 17, 2, 8, 33, 33, 23, 1, 11, 28, 9, 4, 14, 3, 22, 17, 9, 3, 26, 2, 16, 17, 18, -1, 29, 11, 18, 1, 2, 38, 36, 25, 9, 5, 12, 7, 17, 4, 25, 6, 36, 26, 9, 7, 14, -1, 17, 20, 18, 12, 41, 5, 11, 36, 1, 15, 11, 12, 34, 33, 31, 0, 9, 10, 27, 3, 18, 31, 2, 26, 25, 38, 12, 6, 28, 35, 5, 23, 4, -1, 12, 17, 18, 1, 38, 38, 9, 25, 5, 1, 1, 42, 13, 13, 2, 23, 10, 35, 28, 8, 11, 30, 11, 1, 25, 38, 38, 31, 19, -1, 21, 20, 8, 38, 22, 28, 12, 17, 12, 35, 10, 13, 12, 1, 2, 10, 5, 13, 34, 2, 2, 17, 9, 13, 34, 2, 13, 10, -1, 4, 38, 10, 4, 1, 33, 2, 14, 35, 10, 13, 9, 5, 35, -1, 25, 40, 3, 13, 31, 22, 38, 39, 2, 25, 23, 11, 23, 12, 17, 36, 1, 38, 2, 8, 18, 4, -1, 7, 38, 14, 10, -1, 9, 14, 1, 25, 14, 1, 1, 25, 7, 10, 5, 40, 28, 20, 4, 9, 3, 1, 35, 2, 22, 2, 2, 1, 14, 4, 3, 11, 10, 3, -1, -1, 33, 38, 12, 17, 16, 12, 3, 4, 10, 8, -1, -1, 35, 1, 17, 26, 34, 7, 8, 10, 7, 17, 3, 12, 13, 31, 36, 7, 8, 12, 3, 5, 24, 11, 28, 2, 1, 5, 5, 9, 1, 13, 13, 13, 7, 31, 1, 2, 7, 1, 2, 12, 2, 4, 11, 24, 38, 10, -1, 26, 5, 4, 11, 23, 4, 35, 7, 15, 31, 23, 11, 25, 18, 27, 41, 1, 23, 8, 4, 15, 7, 25, 12, -1, 20, 1, 1, 11, 27, 13, 13, 15, 35, 25, 11, 8, 36, 2, -1, 12, 2, 3, 34, 16, 8, 10, 12, 9, 11, 11, 35, 30, 40, 4, 2, 1, 18, 17, 35, 0, 2, 12, 12, 12, 14, 8, 31, 1, 26, 7, 10, 5, 21, 13, 3, 13, 18, 2, 25, 10, 1, 5, 1, 7, 34, 14, 7, 2, 25, 15, 8, 33, 10, 10, 3, 17, 13, 11, 25, 1, 15, 1, 35, 14, 9, 13, 9, 25, 4, 1, 7, 31, 3, 1, 2, 20, 18, 38, 0, 39, 3, 15, 12, 2, 3, 35, 5, 11, 3, 1, 9, 37, 12, 7, 2, 38, 22, 16, 41, 31, 25, -1, 10, 16, 2, 29, 13, 22, -1, 12, 9, -1, 15, 13, 3, 12, 40, 25, 38, 10, 1, 11, 4, 36, 42, 30, 22, 5, 4, 31, 4, 9, 28, 13, 13, 16, 7, 5, 3, 9, 15, 14, 9, 19, 5, 5, 1, 13, 28, 8, 14, 6, 10, 1, 23, 13, 36, 2, 0, 28, 40, 2, 12, 15, 5, 4, 13, 35, 12, 4, 5, 11, 5, 2, 9, 18, 7, 1, 18, 2, 3, 12, 8, 1, 4, 4, 15, 14, 8, 2, 1, 8, 40, 5, 35, 22, 5, 35, 12, 1, 35, 12, 10, 38, 11, 38, 1, 36, 8, 11, 16, 42, 0, 1, 16, 12, 11, 15, 25, 20, 17, 1, 4, 20, 15, 25, 35, 12, 11, 2, 18, 24, 25, 18, 7, 9, 2, 8, 2, 32, 8, 10, 12, 13, 16, 12, 14, 38, 4, 38, 18, 38, 12, 7, 9, 38, 2, 2, 2, 24, 1, -1, 1, 5, 10, 9, 38, 18, 4, 4, 17, 12, 1, 35, 13, 9, 10, 17, 10, 5, 11, 8, 2, 13, 14, 11, 38, 10, 14, 18, 19, 32, 8, 5, 2, 12, 22, 2, 17, 6, 5, 35, 27, 9, -1, -1, 13, 13, 13, 11, 38, 10, 12, 8, 8, 8, 4, 38, -1, 35, 38, 17, 38, 10, 18, 11, 25, 3, 17, 7, 35, 9, 14, 3, 38, 12, 20, 38, 6, 14, 2, 4, 2, 37, 12, 8, 9, 38, 12, 4, 38, 9, 35, 4, 37, 21, 10, 2, 16, 23, 3, 2, 11, 25, 11, 1, 5, 1, -1, 10, 2, 5, 1, 12, 7, 7, 1, 38, 17, 10, 10, -1, 17, 1, 1, 14, 12, 7, 4, 14, 17, 38, 3, 3, 25, 25, 10, 13, 8, 2, 18, 31, 14, 26, 31, 14, 14, 9, 35, 3, 33, 1, 14, 25, 2, 0, 10, 17, 2, 25, 13, 4, 39, 5, 31, 10, 4, 4, 24, 1, 12, 8, -1, 41, 4, 12, 12, 10, 35, 21, 22, 2, -1, 6, 35, 3, 14, 2, 17, 2, 17, 11, 19, 33, 2, 4, 33, 28, 41, 6, 28, 38, 38, 11, 7, -1, 18, -1, 25, 13, 3, 11, -1, 35, -1, 22, 31, -1, 11, 25, 25, 31, 15, 30, 28, 12, -1, 31, 35, 34, 28, 29, 10, 9, 13, 31, 10, 1, 10, 6, 11, 13, 38, 4, 13, 13, 7, 1, 18, 7, 1, 2, 31, 11, 8, 30, -1, 0, 25, 18, 30, 23, 1, 1, 25, 13, 10, 37, 15, 5, 11, 12, 9, 11, 5, 2, 13, 30, 25, 9, 5, 13, 20, 3, 11, 10, 10, 14, 1, 25, 3, 10, 13, 35, 18, 18, 10, -1, 26, 28, 15, 17, 17, 14, 35, 12, 7, 38, 1, 1, 41, 7, 5, 20, 1, 6, 2, 2, 23, 11, 12, 1, 13, 35, 15, 25, 10, 38, 5, 28, 9, 34, 1, 38, 9, -1, 4, 16, 25, 23, 10, 0, 39, 12, 10, 41, 25, 33, 15, 33, 25, 27, 7, 13, 11, 1, 1, 7, 28, 17, 12, 7, 12, 31, 2, 38, 13, 24, 13, 14, 10, 1, 25, 5, 22, 1, 15, 8, 1, 25, 13, 12, 28, 41, 38, 17, 7, 33, 38, 3, 28, 35, 4, 4, 2, 31, 16, 12, 12, 12, 0, 2, 9, 4, 20, 31, 7, 4, -1, 9, 35, 13, 9, 38, 12, 7, 32, -1, 11, 7, 5, 13, 7, 12, 11, 1, 25, 12, 4, 17, 6, 38, 38, 12, 31, 6, 22, 4, -1, 15, 1, 8, 40, 26, 9, 3, 40, 13, 8, 34, 17, 36, 12, 40, 38, 4, 31, 35, 31, -1, 13, 25, 1, 1, 17, 31, 16, 10, 12, 42, 9, 39, 35, 13, 10, 13, 4, 4, 25, 34, 12, 2, 8, -1, 31, 4, 1, 8, 4, 23, 0, 15, 13, 25, 2, 4, 2, 12, 28, 11, 35, 4, 10, 38, 31, 12, 7, 16, 6, 1, 21, 5, 13, 2, -1, 2, 24, 5, 34, 9, 17, 26, 25, 24, 12, 17, 27, 35, 29, 8, 31, 5, 15, 22, 10, 28, 25, 12, 8, 9, 11, 1, 17, 29, 38, 3, 36, 30, 30, 1, 8, 13, 38, 1, 5, 29, 11, -1, 11, 10, 4, 15, 12, 7, 21, 38, -1, 13, 7, 12, 10, 1, 35, 1, 8, 38, 25, 13, 15, 12, 8, 17, 38, 9, 31, 10, 25, 1, 14, 17, 23, 10, 26, 31, 5, 36, 14, 4, 4, 7, 20, 34, 1, 21, 14, 4, 13, 6, -1, 11, 33, 30, 2, 3, 33, 1, 40, 1, 13, 23, 18, 10, 35, 1, 15, -1, 14, 3, 35, 12, 9, 33, 17, 12, 25, 18, 4, 31, 11, 5, 29, 11, 5, 14, 15, 5, 38, 14, 4, 10, 12, 2, 13, -1, 10, 4, 5, 4, 0, 8, 31, 4, 41, 21, 20, 25, 14, 1, 11, 21, 11, 18, 10, 5, 12, 13, 31, 12, 2, 12, 13, 16, 3, 2, 10, 5, 31, 12, 14, 17, 17, 13, 17, 16, 31, 11, 26, -1, 13, 7, 13, 2, 18, 8, 7, 1, 9, 38, 9, 13, 13, 1, 1, 8, 2, 8, 13, 38, 7, 18, 2, 14, 38, 5, 38, 12, 25, 5, 25, 11, 22, 5, 14, 12, 13, 5, 13, 9, 11, 25, 7, 12, 35, 15, 1, 3, 31, 17, 13, -1, 8, 25, 4, 38, 18, 10, 36, 17, 13, 8, 12, 4, 1, 2, 5, 17, 9, 25, -1, 35, 29, 35, 15, 2, 35, 11, 28, 26, 23, 3, 35, 25, 38, 1, -1, 9, 11, 7, 9, 38, 20, 39, -1, 13, 42, 11, 12, 38, -1, 3, 10, -1, 35, 4, 5, 5, 9, 35, 31, 24, 0, 0, 20, 9, 1, 1, 4, 7, 25, -1, 33, 14, 2, 15, 9, 12, 1, 11, 33, 4, 1, 18, 13, 12, 13, 2, 13, 10, 36, 10, 38, 3, 11, 38, -1, 30, 18, 35, 5, 9, 18, 8, 12, 15, 5, 1, 35, 4, 25, 5, 2, -1, 12, 8, 1, 1, 4, 4, 9, 17, 4, 10, 17, 38, 2, 2, 39, 1, 31, 15, 10, 4, 3, 13, 5, 9, 3, 18, 6, 7, 12, 42, 19, 11, 17, 1, 33, 8, 31, 31, 5, 1, 12, 28, 5, -1, 8, 20, 10, 10, 8, 8, 0, 5, 7, -1, 33, 10, 5, 12, 38, -1, 2, 7, 5, 2, 17, 5, 17, 12, 31, 25, 18, 2, 27, 3, 37, 9, 38, 5, 38, 8, 13, 10, 14, 12, 17, 31, 26, 33, 38, 17, 12, 2, 2, 13, 1, 31, 2, 10, 9, 33, 5, 13, 1, 4, 8, 2, 36, 12, 38, 4, 34, 12, 42, 5, 2, 1, 22, 25, 28, 3, 0, 2, 2, 17, 12, 23, 31, 30, 0, 1, 35, 40, 2, 10, 10, 7, 9, 4, 34, 5, 7, 30, 12, 13, 35, 28, 12, 35, 16, 12, -1, -1, 5, 1, 5, 1, 2, 2, 12, 3, 7, 16, 2, 7, 14, 18, 38, 25, 2, 18, 9, 36, 9, 25, 5, 5, 5, 3, -1, 13, 1, 25, 25, 8, 10, 25, 0, 31, 9, 2, 2, -1, 4, 13, 7, 30, 5, 15, 12, 17, 1, -1, 7, 24, -1, 3, 10, 26, 38, 10, 12, 2, 10, 3, 5, 1, 12, -1, -1, 34, 1, 0, 4, 35, 4, 5, 13, 33, 37, 37, 38, 33, 38, 31, 31, 11, 19, 38, 4, 12, 8, 24, 12, 2, 13, 7, 7, 1, 9, 38, -1, 20, 33, 35, 25, 30, 8, 2, 28, 19, 5, 39, 2, 4, 35, 12, 4, 10, 25, 8, 4, 4, 38, 1, 37, 5, 10, 1, 6, 6, 38, 12, 33, -1, 1, 10, 4, 25, 18, 4, 9, 39, 10, 7, 6, 7, 1, 10, 12, 13, 2, 2, 22, 6, 10, 11, 12, 21, 11, 38, 5, 4, 31, 27, 26, 26, 33, 4, 25, 7, 1, 2, 39, 38, 38, 40, 38, 2, 5, 13, 11, 16, -1, 36, 22, 14, 7, 3, -1, 4, 25, 26, 0, -1, 5, 9, 3, 21, 19, 12, 1, 1, 7, 14, 7, 42, 13, 4, 13, 18, 4, 38, 12, 12, 13, 2, 17, 17, 1, 26, 19, 7, 18, 14, 4, 1, 7, 8, 20, 10, 16, 28, 5, 17, 25, 12, 38, 3, 28, 13, 31, 36, 13, 15, 38, 25, 26, 4, 11, 25, 2, 38, 23, 8, 10, 7, 15, 31, 4, 39, -1, 0, 25, 17, 38, 16, 10, 1, 7, -1, 17, 10, 9, 25, 4, 17, 13, 18, 5, 5, 5, 10, 25, -1, 10, 11, 30, 42, 13, 2, 4, 4, 2, 22, 35, 17, -1, 7, 8, 23, 7, 10, 5, 10, 10, 4, 5, 7, 11, 3, 12, 38, 13, 9, 11, -1, 7, 3, 2, 12, 22, 10, 13, 38, 7, 14, 33, 3, 4, 15, 1, 9, 9, 11, 32, 39, 38, 12, 4, 3, 1, 14, 15, 38, 33, 27, 18, 10, 13, 18, 2, 31, 18, 30, 1, -1, 1, 38, 18, 24, 3, 11, 1, -1, 40, 7, 25, 31, 29, -1, 35, 10, 5, 12, 16, 8, 13, 17, 10, 14, 23, 8, 17, 9, 25, 1, 1, 38, 12, 31, 10, 31, 5, 10, 2, 34, 35, 11, 42, 39, 8, 5, 38, 7, 10, 2, 9, 13, 10, 14, 25, 19, 5, 8, 31, 13, 9, 40, 16, -1, 18, 9, 2, 17, 25, 2, 7, 25, 5, 12, 14, 11, 39, 7, 10, 13, 9, 15, 7, 10, 13, 35, 4, 32, 23, 38, 40, 35, 2, 15, 2, 30, 1, 25, 1, 35, 2, 39, 2, 3, 4, 26, 12, 4, 3, 35, 26, 14, 18, 1, 5, 13, 1, 2, 35, 9, 29, 1, 38, 18, 3, 3, 4, 17, 12, 26, 28, 33, 42, 25, 13, 9, 18, 6, 2, 3, 13, 11, 38, 18, 3, 12, 32, 13, 2, 35, 13, 5, 10, 27, 35, 17, 1, 29, 35, 2, 25, 14, 8, 2, 14, 38, 8, -1, 9, 10, 3, 13, 38, 36, 11, 13, 24, 10, 19, 25, -1, 11, 16, -1, 16, 15, 1, 28, 12, 4, 14, 10, 10, 12, 5, 2, 13, 1, 13, 9, 9, 2, 10, 23, 10, 22, 13, 2, 1, 7, 5, 27, 12, 5, 2, 25, 1, 38, -1, 25, -1, 1, 14, 5, 35, 14, 15, 15, 4, 9, 10, 1, 1, 38, 12, 39, 12, 40, 16, 15, 18, 17, 39, 5, 22, 3, 3, 25, 38, 2, 13, 12, 14, 13, 38, 4, 10, 38, 2, -1, 4, 25, 18, 2, 3, 13, 28, 5, 38, 4, 34, 5, 11, 11, 18, 28, 17, 1, -1, 12, 3, 38, 23, 13, 4, 16, 26, 8, 4, 13, 31, 38, 15, 35, 7, 10, 7, 1, 4, 20, 14, 13, 2, 12, 13, 36, 1, 38, 3, 13, 35, 2, 18, 13, 12, 2, 1, 11, 5, 13, 10, 38, 25, 14, 5, 1, 9, 17, 40, 12, 4, 31, 40, 26, 2, 6, 1, 11, 26, 35, 9, 3, 14, -1, 38, 5, 4, 2, 38, 18, 4, 38, 38, 3, 12, 1, 20, 2, 40, 2, 38, -1, 1, 12, 5, 3, 4, 15, 13, 38, 1, 38, 3, 2, -1, 1, 38, 13, 18, 1, 5, 23, 1, 4, 31, 12, 12, 25, 5, 4, -1, 25, 7, 38, 17, 12, 10, 13, 15, 23, 18, 25, 34, 20, 11, 20, 23, 12, 13, 36, 18, 11, 33, 7, 17, 10, 38, 8, 2, 6, 13, 14, 1, -1, 35, 38, 11, 35, 18, -1, 15, 2, 3, 13, 8, 31, 4, 18, 13, 25, 2, 25, 25, 1, 8, 31, 40, 22, 31, 9, 25, 25, 24, 1, 4, 12, 33, 5, 4, 23, 1, 9, 11, 4, 33, 28, 4, 17, 4, 40, 4, 5, 3, 30, 6, 34, 13, 14, 1, -1, 5, 3, 1, 1, 9, 5, 12, 15, 13, 24, 15, 20, 2, 28, 9, 7, 35, 10, 14, 17, 15, 2, 2, 18, 16, 7, 8, 35, 12, 9, 26, 13, 13, 26, 20, 21, 34, 14, 12, 38, 4, 18, 13, 18, 4, 12, 11, 12, 15, 12, 37, 7, 31, 15, 14, 9, 36, 38, 5, 13, 31, 12, 8, 11, 4, 11, 38, 10, 38, 1, 12, 6, 4, 11, 28, 20, 9, 10, 15, 10, 35, 15, 38, 8, 5, 26, 11, 13, 12, 28, 8, 3, 4, 13, 23, 34, 36, 10, 2, 8, 22, 11, 25, 2, 38, -1, 40, 13, 21, 15, 10, 5, 15, 7, 38, 5, 10, 12, 10, 35, -1, 3, 8, 38, 2, 38, 16, 31, 26, 33, 17, 10, 2, 26, 11, 38, 38, -1, 13, 23, 38, 7, 13, 4, 38, 19, 35, 17, -1, 28, 34, -1, 38, 31, 31, 2, 11, 32, 37, 15, 9, 7, 17, 38, 5, 14, 2, 1, 11, 1, 29, 11, 5, 14, 9, 38, 10, 25, 34, 17, 10, 1, 13, 9, 11, 39, 18, 25, 33, 13, 7, 12, 26, 10, 8, -1, 38, 12, 32, 8, 13, 38, 7, 7, 18, 15, 4, 18, 33, 2, 1, 2, 11, 1, 17, 1, 1, 12, 10, 10, 13, 4, 2, 36, 8, 12, 7, 11, 5, 15, 28, 40, 1, 7, 4, 17, 9, 17, 40, 7, 31, 10, 18, 13, 25, 17, 9, 38, 7, 3, 30, 12, 8, 10, 25, -1, 5, 3, 37, 23, 7, 3, 14, 35, 13, 17, 15, 21, 13, 38, 3, -1, 11, 18, 20, 5, 8, 18, 5, 7, 12, 5, 38, 14, 2, 4, 17, 2, 37, 40, 31, 7, 18, 13, 16, 13, 7, -1, 5, 7, 31, 2, 4, 8, 11, 8, 25, 9, 14, 12, 10, 16, 17, 38, 25, 6, 5, 1, 35, 2, 2, 11, 12, -1, 17, 12, 33, 38, 2, 4, 8, 28, 12, 29, 1, 41, 17, 38, 35, 9, 2, 2, 20, 12, 5, 2, 25, 2, 33, 7, 35, 4, 35, 12, 6, 7, 10, 42, 13, 5, 31, 3, 38, 1, 16, 11, 23, 4, 10, 4, 5, 8, 24, 31, 3, 4, 12, 21, 29, 26, 4, 1, 6, 5, 10, 4, 9, 7, 25, 4, 21, -1, 12, 4, 3, 2, 39, 38, 33, 33, 1, 37, 36, 5, 24, 13, 7, 10, 19, 23, 34, 18, 12, 14, 38, 5, 42, 13, 5, 3, 10, 37, 5, 31, 34, 9, 3, 24, 13, 5, 10, 33, 30, 4, 12, 37, 30, 25, 11, 38, 38, 5, 13, 1, 10, 10, 31, 31, 4, 37, 3, 12, 1, 7, 30, 12, 14, 35, 11, 11, 1, 8, 38, 7, 28, 10, 12, 2, 11, 23, 9, 11, 3, 1, -1, 3, 18, 2, 9, 4, 31, 30, 35, 2, 23, 10, 8, 38, 5, 5, 10, 9, 12, 38, 3, 3, 16, 13, 9, 12, 28, -1, -1, 22, 4, 35, 4, 5, -1, 38, 14, 38, 38, 28, 11, 13, 35, 13, 5, 38, 3, 7, 7, 18, 11, 27, 1, 13, 10, 14, 16, 4, 1, 11, 4, 10, 4, 38, 4, 2, 2, 10, 5, 33, 1, 18, 7, 15, 15, 9, 4, 35, 31, 13, 5, 12, 5, 29, 2, 3, 35, 17, 7, 2, 12, 35, 8, 10, 38, 35, 1, 35, 7, 2, 25, 0, 2, 1, 4, 36, 29, 8, 7, 35, 10, 1, 13, 4, 10, 5, 12, 7, 16, 3, 1, 1, 41, 19, 8, 13, 10, 1, -1, 13, 11, 2, 2, 7, 10, 14, 10, 39, 9, 25, 3, 6, 17, 13, 2, 3, 17, 2, 40, 1, 10, 5, 32, 8, 12, 42, 1, 35, 0, 1, -1, 1, 2, 29, 13, 3, 36, 15, 4, 23, 5, 5, 8, 8, 5, 4, 2, 10, 25, -1, 25, 32, 13, 34, 26, 25, 15, 25, 18, 6, 9, 7, 1, 13, 27, 1, 4, 23, 25, 35, 10, 4, 7, 10, 12, 12, 18, 26, 12, 25, 11, 35, 12, 35, 4, 10, 2, 7, 40, 11, 38, 13, 12, 13, 36, 5, 35, 15, 11, 13, 13, 36, 5, 33, 8, 34, 13, 1, 3, 38, 17, 6, 5, 25, 5, 10, -1, 10, 7, 2, 12, 5, 3, 2, 23, 20, 9, 4, 22, 9, 4, 38, 5, 9, 27, 8, 8, 41, 12, 11, 3, 5, 0, 25, 5, 36, 2, 13, 26, 17, 3, 13, 2, 28, 28, -1, 2, 1, 15, 17, 15, 2, 42, 2, -1, 30, 25, 26, 38, -1, 12, 6, 23, 25, 12, 18, 3, 13, 1, 13, 17, 25, 18, 6, 10, 18, 10, 5, 8, 2, 13, 36, 36, 18, 8, 24, 10, 14, 10, 7, 38, 2, 35, 5, 4, 13, 6, 12, 4, -1, 42, 8, 17, 5, 17, 7, 21, 3, -1, 10, 9, 3, 12, 36, 17, 5, -1, 12, 13, 14, 1, 2, 16, 9, 34, 9, 19, 13, 26, 4, 4, 10, 35, 22, 4, 6, -1, 5, 4, 31, 38, 13, 25, 12, -1, 12, 7, 8, 13, 38, 5, 14, 10, 33, 25, 18, 33, 18, 2, 38, 23, 9, 2, 1, 3, 10, 1, 17, 38, 5, 1, 5, 13, 5, 26, 4, 2, 9, 4, 3, 21, 38, 18, 40, 35, 23, 35, 12, 8, 8, 6, 38, 35, 35, 25, 29, 38, 15, 7, 4, 10, 21, 1, 12, 32, 33, 1, 8, 26, 38, 11, 38, 28, 5, 25, 1, 3, 2, 35, 23, 38, 33, 1, 15, 2, 11, -1, 31, 2, 4, 35, 7, 1, 17, 38, 38, 2, 42, 12, 3, 5, 31, 3, 31, 8, 7, 12, 10, 26, 0, -1, 10, 34, 21, 26, -1, 9, 25, 14, 5, 10, 9, 8, 7, 31, 40, 10, 13, 23, 25, 5, 17, -1, 1, 14, 4, 36, 1, 15, 5, 38, 38, 40, 4, 14, 25, 35, 17, 5, 11, 13, 36, 38, 13, 38, 34, 38, 4, 10, 8, 4, 25, 12, 2, 13, 10, 1, 25, 33, 18, 3, 19, 10, 5, 1, 35, 25, 4, 20, 3, 7, -1, 17, 8, 4, 2, 10, 38, 15, 38, 31, 38, 10, 8, -1, 11, 11, 0, 31, 5, 4, 35, 17, 1, 7, 1, 1, 1, 26, 2, 31, 5, 33, 31, 8, 9, 1, 37, 31, 9, 10, 11, 1, -1, 7, 4, 7, 5, -1, 1, 1, 1, 26, 25, 30, 14, 12, 4, 31, 9, 31, 8, 2, 5, 13, -1, 35, 23, 34, 15, 35, 4, 23, 31, -1, 17, 22, 13, 1, 11, 1, 38, 9, 30, 1, 15, 22, 34, 33, 2, 2, 11, 23, 38, 5, 4, 35, 34, 4, 33, 11, 9, 20, 17, 11, -1, 11, 18, 29, 38, 12, 38, 40, 9, 0, 1, 13, 36, 14, 12, 31, 3, 12, 38, 24, 23, 22, 4, 18, 10, 11, 2, 2, 38, 13, 35, 2, 16, 17, 38, 41, 8, 33, 22, 12, 38, -1, 2, 31, 5, 35, 7, 5, 8, 10, 4, 33, 17, 35, 5, 14, 9, 4, 5, 25, 28, 26, 13, 9, 13, 2, 2, 38, 1, 9, 11, -1, 13, 10, 7, 15, 10, 2, 11, 5, 17, 11, 10, 3, 9, 10, 7, 2, 4, 5, 8, 2, 8, 42, 30, 33, 2, 35, -1, 10, 12, 12, 22, 27, -1, 5, 9, 42, 33, 10, 8, 9, 12, 38, 22, 2, 38, 38, 1, 12, 7, 18, 1, 24, 19, 13, 23, 18, 13, 5, 0, 10, 20, 11, 11, 23, 31, 18, 35, 38, 4, 10, 26, 38, 18, 2, 9, 25, 33, 30, 25, 12, 12, 2, 9, 4, 34, 11, 4, 42, 36, 4, 12, 3, 9, 38, 37, 12, 25, 33, 25, 10, 9, 13, 38, 11, 1, 9, 20, 38, 37, 18, 10, 42, -1, 17, 33, 37, 25, 34, 38, 2, 15, 20, 3, 33, 10, 9, 1, 42, 25, -1, 8, 38, 4, 17, 36, 13, 18, 18, 14, 10, 1, 5, 23, 12, 12, 16, 2, 13, 37, 10, -1, 35, 2, 2, 12, 10, 1, 25, 25, 18, 2, 9, 13, 26, 18, 12, 35, 13, 25, 4, 34, 10, 1, 12, -1, 25, 3, 29, 1, 2, 35, 9, 7, 10, 10, 31, 8, -1, 10, 25, 13, 4, 13, 25, 12, 3, 4, 39, 14, 10, 38, 3, 33, 12, 14, 31, 24, 4, 8, 25, 24, 31, 2, 2, 4, 14, 1, 2, 31, 37, 17, 25, 1, 9, 22, 38, 12, 38, 9, 35, 1, 5, 6, 38, 1, 26, 5, 17, 23, 9, 9, 35, 2, 4, 1, 25, 16, 5, 3, 12, 1, 2, 2, 12, 38, 30, 1, -1, 38, 2, 2, 12, 17, 33, 1, 28, 1, 17, 5, 9, 35, 38, 3, 0, 1, 12, 2, 18, 25, 13, 17, -1, 35, 5, 17, 3, 12, 31, 5, 17, 26, 36, 2, 5, 38, 12, 2, 31, 14, 2, 35, 9, -1, 31, 12, 1, 38, 8, 9, 11, 12, 25, 25, 40, 35, 4, 18, 18, 32, 35, 26, 1, 1, 12, 2, 4, 5, 11, 12, 8, 10, 5, 23, 3, 10, 33, 26, 13, 1, -1, 36, 17, 7, 2, 5, 2, 2, 2, 13, 7, 33, 28, 2, 13, 4, 1, 10, 18, 42, 38, 25, 5, 11, 7, 2, 8, 12, 42, 1, 9, 35, 17, 13, 31, 8, 38, 3, 39, 9, 12, 11, 38, 8, 18, 8, 23, 25, 18, 35, 10, 38, 6, 1, 28, 12, 38, 35, 12, 14, -1, 16, 18, 5, 5, 14, 29, 17, 2, 1, 2, 25, 26, 5, 13, 35, 18, 11, 8, 15, 9, 8, 12, 7, 1, 42, 2, 17, 35, 1, 19, 10, 12, 4, 35, 38, 34, 4, 9, 8, 26, 4, 9, 10, 10, 10, 17, 24, 35, 7, 25, 13, 4, 5, 31, 26, 12, 8, 7, 7, 3, 31, 12, 13, 11, 7, 13, 3, 31, -1, 10, 38, 38, 42, 18, 10, 7, 1, 33, 8, 1, 7, 14, 33, 11, 1, 1, 2, 31, 3, 33, 3, 30, -1, 13, 38, 13, 42, 10, 5, 26, -1, 9, 4, 8, 42, 5, 5, 25, 19, 23, 31, 11, 4, 7, 10, 24, 8, 25, 11, 11, 3, 10, 4, 38, 1, 36, 12, 11, 5, 3, 10, 9, 23, 1, 30, 17, 12, 31, 3, 10, 5, 9, 8, 1, 25, 17, 1, 16, 37, 16, 9, 5, 25, 12, 7, 38, 2, 13, 1, 12, 4, -1, 33, 7, 3, 40, -1, 33, 35, 12, 7, 12, 2, 3, 2, 12, -1, 17, 8, 7, 2, 7, 3, -1, 11, 4, 42, 15, 2, 17, 1, 12, 4, 16, 6, 10, 17, 18, 2, 14, 22, 38, 23, 4, 29, 4, 28, 5, 11, 11, 12, 17, 12, 25, 4, 18, 38, 13, 10, 33, 9, 2, 28, 28, 8, 17, 38, 2, 10, 2, 2, 8, 7, 7, 14, 3, 32, 11, 16, 9, 15, 3, 2, 4, 27, 38, 11, 13, 18, 11, 22, 10, 5, 18, 18, 38, 12, 1, 13, 12, 9, 1, 41, 13, 11, 30, 1, 33, 4, 3, 15, 22, 4, 38, 30, 36, 2, 42, 5, 5, 31, 18, 5, 6, 12, 1, 40, 2, 8, 34, 36, 10, 12, 14, 42, -1, 18, 5, 12, 4, 34, 26, 1, 25, 12, 28, 8, 5, 35, 25, 5, 1, 32, 14, 36, 2, 9, 12, 7, 2, 3, 11, 35, 9, 42, -1, 35, 10, 1, 14, 38, 7, 17, 1, 35, 23, 8, 3, 3, 32, 38, 1, 5, 12, 13, 8, 8, 4, 22, 8, 26, 28, 4, 1, 38, 9, 9, 3, 10, 29, 33, 7, 16, 9, 2, 22, 31, 39, 9, 15, 35, 5, 38, 2, 35, 38, 11, 2, 23, 22, 38, 2, 8, 12, 5, 14, 22, 2, 13, 38, 4, 31, 2, 18, 31, 12, 5, 33, 5, 3, 38, 13, 6, 13, 14, 13, 35, 6, 31, 11, 35, 15, 10, 1, 19, 17, 6, 7, 32, 30, 10, 25, 9, 36, 13, 21, 10, 2, 17, 18, 37, 25, 5, 28, 2, 17, 28, -1, 7, 1, -1, 35, 3, 22, 2, 8, 16, 31, 1, 28, 12, 17, 13, 40, 11, 8, 2, 8, 30, 3, 8, 22, 12, 25, 25, 6, 8, 30, 2, 9, 7, 25, 7, 42, 18, 4, 14, 14, 5, 9, 23, 15, 7, 8, 14, 9, 20, 3, 12, 3, 38, 13, 3, 16, 10, 33, 7, 12, 1, 31, 33, 8, 1, 9, 21, 13, 35, 8, 33, 14, 2, 10, 1, 5, 1, 13, 18, 37, 4, 6, 3, 8, 38, 42, 29, 5, 2, 18, 35, 5, 23, 38, 8, 38, 13, 36, 1, 36, 35, 18, 23, 11, 10, 25, -1, 5, 29, 31, 14, 1, 38, 3, 1, 14, 11, 25, 38, 8, 12, 39, 18, 17, 4, 4, 1, 1, 4, 12, 25, 12, 5, 12, -1, 12, 12, 38, 11, 1, 30, 9, 4, 17, 25, 4, 16, 18, 13, 23, 18, 1, -1, 12, 10, 5, 16, 13, 4, 22, -1, 3, 13, 19, 16, 3, 4, 28, 5, 31, 13, 25, 35, 1, -1, 39, 38, 36, -1, 38, 38, 3, 13, 28, 17, 10, 11, 38, 7, 26, 33, 10, 28, 2, 3, 3, 13, 2, 12, 31, 38, 2, 34, 9, 1, 8, 31, 3, 31, 33, 12, 1, 6, 35, 28, 4, 2, 38, 34, 12, -1, 40, 9, 10, 4, 12, 25, 31, 25, 2, 13, 16, 3, 31, 33, 12, 12, 15, 4, 17, 8, 38, 33, 31, 38, 13, 13, 2, 31, 10, 2, 5, 5, 4, 38, 17, 7, 21, 31, -1, 8, 25, 4, 13, 7, 1, 38, 38, 1, 2, 12, 7, 2, 25, -1, 38, 35, 12, 29, 8, 9, 30, 5, 12, 38, 10, 1, 35, 4, 16, 4, 25, 7, 0, 6, 25, 20, 12, 11, 9, 5, 27, 38, 4, 5, 2, 18, 4, 1, 9, 3, 5, 1, 12, 11, 2, 10, 1, 20, 1, 28, 13, 20, 25, 12, 5, 27, 8, 36, 11, 7, 3, 10, 10, 2, 2, 7, -1, 13, 2, 13, 28, 9, 4, 39, 10, 13, 12, 18, 16, 38, 9, 8, 13, 11, 3, 28, 40, 8, 7, 18, 2, 17, 8, 16, 6, 33, 31, 9, 34, 17, -1, 9, 12, 2, 35, 4, 8, 18, 37, 8, 13, 12, 13, 11, 13, 12, 38, 12, 8, 31, 7, 30, 5, 7, 31, 9, -1, 14, 8, 28, 10, 5, 5, 25, 24, 14, 26, 28, 35, 4, 1, 4, 7, 39, 13, 5, 35, 3, 2, 31, 25, 3, 5, 10, 35, 42, 7, 25, -1, 8, -1, 5, 2, 12, 38, 1, 13, 12, 33, 38, 4, 2, 5, 11, 25, 10, 7, -1, 35, 2, 8, 4, 1, 34, 14, 13, 18, 37, 13, 5, 12, 10, 17, 17, 23, 20, -1, 10, 14, 38, 12, 12, 25, 12, 13, 35, 5, 25, 5, 1, 17, 4, 4, 13, 26, 3, 5, 23, 1, 34, 21, 18, 12, 12, 4, 2, 1, 22, 35, 31, 11, 16, 14, 32, 16, 37, 5, 35, -1, 15, 26, 25, 5, 10, 25, 40, 2, 5, 33, 10, 13, 1, 15, 38, 7, 1, 13, 35, 35, 42, 11, 1, 35, 29, 12, 37, 13, -1, 7, 5, 2, 14, 3, 38, 13, 15, 25, 8, 3, 18, 9, 28, 3, 23, 2, 4, 9, -1, 34, 2, 10, 25, 1, 38, 38, 24, 5, 19, -1, 35, 7, 11, 11, 11, 3, 23, 10, 18, 4, 1, 32, 5, 4, 38, 7, 38, 20, -1, 16, 31, 23, 13, 25, 21, 4, 10, 7, 2, 12, 40, 12, 34, -1, 9, 38, 18, 13, 38, 3, 17, 35, 40, 8, 9, 9, 9, 21, 38, 31, 10, 2, 12, 27, 31, 25, 36, 11, 24, 8, 35, 9, 5, -1, 38, 13, 26, 39, 38, 10, 29, 18, 10, 13, 30, 17, 16, 9, 35, 22, 13, 13, 13, 13, 13, 2, 13, 24, 3, 35, 2, 2, 9, 8, 38, 35, 7, 9, 9, 2, 1, 33, 2, 17, 5, 5, 3, 13, 34, 13, 35, 28, 10, 11, 2, 32, 12, 2, 13, 11, 35, 4, 12, 17, 2, 1, 1, 28, 4, 21, 17, 3, 1, 2, 18, 10, -1, 30, 1, 7, 2, 25, 40, 8, 27, 4, 41, 7, 3, 15, 9, 1, 8, 32, 14, 12, 9, 12, 34, 12, 2, 35, 10, 7, 26, 12, 8, 3, 11, 7, 38, 5, 4, 33, 1, 29, 4, 25, 25, 37, 12, 10, 15, 38, -1, 5, 18, 2, 13, 35, 26, 13, 38, 13, 2, 19, 12, 38, -1, 38, 6, 5, 5, 9, 34, 29, 13, 3, 10, 5, 40, 4, 5, 13, 29, 12, 42, 1, 7, 6, 3, 19, 1, 5, 2, 9, 38, 12, 33, 15, 22, 1, 1, 2, 35, 4, 17, 31, 18, 31, 10, 10, 38, 1, 9, 35, 31, 28, 16, 17, 8, 23, 5, 2, 7, 13, 13, 7, 13, 38, 8, 35, 9, 9, 13, 41, 35, 2, 12, 33, 18, 4, 1, 12, 1, 5, 11, 38, 7, 18, 14, 2, 8, 38, 7, 9, 11, 12, 12, -1, 35, 4, 3, 28, 31, -1, 4, 26, 2, 38, 2, 14, 13, 18, 4, 13, 12, 11, 11, 1, 21, 18, 25, 38, 6, 34, 35, 12, 16, -1, 18, 3, 1, 10, 5, 12, 1, 1, 11, 9, 2, 34, 3, 29, 6, 35, 12, 25, 35, 15, 38, 4, 12, 31, 4, 13, 38, 2, 39, 10, 11, 31, 6, 38, 25, -1, 7, 17, 35, -1, 10, 9, 38, 21, 38, 2, 31, 9, 33, 31, 1, 4, 20, 31, 13, 25, 23, 38, 1, 28, -1, 11, 1, 33, 18, 9, 20, 18, 25, 2, 9, 10, 8, 39, 38, 9, 4, 2, 8, 25, 5, 3, 13, 4, 3, 18, 25, 13, 12, 19, 13, 25, 4, 12, 39, 5, 5, 5, 3, 5, 8, 23, 4, 12, 28, 4, 9, 12, 13, 13, 17, 5, 8, 27, 39, 37, 13, 3, -1, 24, 10, 12, 6, 38, 17, 12, 31, 1, 11, 15, 15, 4, 7, 13, 13, 34, -1, 11, 21, 14, 24, 38, 4, 20, 4, 9, 1, 41, 10, 34, 2, 21, 1, 20, 2, 4, 25, 9, 16, 3, 26, 1, 5, 8, 7, 9, 14, 14, 14, 7, 4, 23, 28, 11, -1, 33, 11, 6, 6, 11, 12, 4, 13, 16, 7, 2, 10, 13, 10, 4, 15, 38, 10, 15, 10, 9, 37, 18, 38, 38, 13, 23, 13, 17, 1, 17, 7, 11, 2, 7, 18, 36, 18, 9, 2, 7, 39, 7, 25, 5, 25, -1, -1, 35, 10, 1, 12, 1, 12, 13, 5, 8, 18, -1, 35, 39, 5, 10, 13, 14, 34, 2, 12, 3, 38, 1, 38, -1, 1, 12, 2, 23, 23, 2, 28, 8, 4, 35, 8, 1, 13, 10, 17, 17, 14, 27, 2, 10, 35, 38, 38, 13, 31, 4, -1, 11, 27, 14, -1, 31, 22, 18, 10, 4, 11, 13, 38, 10, 8, 13, 24, 5, 4, 3, 23, 17, 1, 8, 14, 2, 13, 12, 5, 13, 31, 38, 23, 28, 35, 8, 16, 31, 5, -1, 1, -1, 34, 15, 7, 14, 13, 15, 12, 2, 4, 1, 17, 13, 12, 1, 9, -1, 5, 9, 38, 5, 9, 8, 38, 28, 4, 12, 2, 1, 13, 13, 8, 1, 31, 2, 8, 19, 2, 12, 12, 11, 12, 17, 17, 36, 12, 12, 18, 14, 23, 9, 13, 5, 26, 6, 2, 13, 13, 31, 3, 41, 23, 10, 1, 25, 38, 8, 5, 25, 18, 8, 5, 15, 10, 9, 11, 42, 22, -1, 33, 5, 30, 5, 5, 16, 28, 17, 41, 38, 12, 5, 12, 9, 13, 38, 17, 4, 25, 30, 13, 1, 12, 38, 9, 12, 33, 42, 38, 2, 2, 16, 32, 5, 15, 22, 35, 27, 10, 1, 17, 4, 8, 24, -1, 18, 11, 25, 31, 9, 15, 38, 9, 2, 15, 38, 10, 10, 23, 9, 38, 34, 38, 16, 4, 15, 32, 5, 13, 4, 27, 5, 4, 9, 38, 1, 35, 2, 1, 34, 12, 42, -1, 13, 2, -1, 5, 35, 2, 25, 7, 13, 13, 13, 38, 29, 25, 8, 17, 5, 5, 12, 15, 15, 11, 40, 9, 11, 8, 15, 1, 4, 6, 35, 26, -1, 18, 2, 41, 8, 3, 30, 13, 30, 17, 3, 13, 2, 38, 41, 34, 4, 12, 25, 26, -1, 5, 13, 29, 1, 11, 38, 14, 23, 10, -1, 18, 8, 13, 33, 10, 17, 4, 26, 13, 6, 24, 9, 39, 23, 38, 11, 36, 25, 35, 12, 39, 15, 3, 3, 25, 25, 38, 10, 14, 13, 23, 2, 12, 12, 4, 14, 2, 2, 4, 25, 31, 15, 4, 4, 10, 41, -1, 15, 10, 9, 31, 31, 10, 36, 35, 2, 36, 11, 7, 1, 31, 18, 12, 38, 38, 3, 7, 9, 38, 5, 2, 13, 13, 17, 8, 7, -1, 18, 13, 3, 2, 31, 33, 38, 21, 2, 1, 15, 2, 42, 10, 13, 33, 38, 25, 26, -1, 5, 5, 7, 25, 9, 13, 33, 34, 1, 5, 12, 31, 4, 13, -1, 3, 38, 2, 8, 14, 19, 2, 6, 12, 2, 25, 20, 11, 30, 12, 4, 3, 8, 23, 36, 38, 2, 33, 21, 5, 8, 18, 10, 1, 38, 19, 9, 18, 14, 16, 17, 12, 25, 35, 10, 5, 11, 14, 4, 14, 23, 10, 16, 38, 5, 3, 11, 1, 1, 38, 9, 11, 38, 26, 16, 2, 3, 3, 32, 9, 11, 7, 1, 5, 8, 23, 39, 12, 1, 4, 28, 1, 5, 23, 1, 33, 3, 9, 4, 5, 31, 38, 22, 10, 3, 10, 2, 5, 4, 37, 20, 35, 9, 15, 15, 12, 34, 13, 11, 12, 26, 38, 11, 2, 12, 21, 7, -1, 33, 1, 3, 10, 23, 5, 4, 6, 2, 25, 3, 2, 1, -1, 10, 29, 12, 4, 35, 39, 33, -1, 3, 4, 2, 3, 2, 10, 1, 22, 8, 10, 11, 15, 25, 4, 7, 30, 3, 38, 25, 8, 8, 0, 36, 3, 10, 4, 13, 35, 13, 17, 25, 28, 3, 10, 13, 12, 1, 6, 13, 18, 24, 4, 2, 3, 30, 32, 1, 8, 38, 14, 12, 24, 25, 1, 4, 38, 10, 12, 12, 22, 13, 11, -1, 32, 32, 40, 1, 18, 37, 12, 13, 31, 35, 38, 30, 13, 5, -1, 25, 5, 8, 26, 10, -1, 17, 2, 24, 39, 9, 11, 4, 1, 10, 2, 11, 12, 25, 38, -1, 10, 38, 10, 13, 13, 7, 32, 12, 1, 35, 10, 3, 25, 13, 5, 7, 9, 35, 23, 2, 5, 24, 37, 5, 12, 38, 9, 21, 13, 35, 25, 10, 17, 9, 9, 15, 36, 12, 42, 1, 4, 7, 2, 2, -1, 10, 4, -1, 8, 2, 29, 30, 18, 39, 31, 13, 8, 5, 18, -1, 18, 23, 12, 3, 35, 5, 25, 8, 4, 14, 7, 2, -1, 8, 9, -1, 1, 2, 2, 40, 18, 13, 18, 7, 11, 10, 15, 10, 12, 2, 35, 13, 38, 22, 28, 8, 11, 10, 13, 4, 6, 25, 1, 18, 18, 25, 8, 34, -1, 13, 11, 5, 31, 11, 28, 37, 4, 8, 12, 5, 2, 14, 13, 17, 8, 1, 3, 18, 4, 3, 8, 28, 1, 36, 34, 25, 7, 2, 9, 2, 23, 2, 13, 7, 23, 38, 2, 17, 1, 14, 36, 13, 3, 1, 38, 42, 38, 3, 11, 15, 35, 16, 12, 13, 25, 14, 1, 2, 1, 33, 1, 8, 4, 35, 6, 6, 18, 33, 38, 10, 14, 4, 12, 9, 33, 34, 35, 28, 27, 14, 13, 34, 13, 11, 20, 8, 5, 2, 8, 5, 12, 7, 33, 2, 10, 36, 26, 28, 13, 31, 38, 2, 22, 29, 25, 6, -1, 11, 26, 10, 6, 38, 22, 27, 10, 1, 23, 38, 7, 8, 13, 5, 10, 34, 2, 12, 10, 2, 31, -1, 2, 9, 35, 1, 4, 5, 17, 38, 24, 3, 10, 2, 6, 12, 12, 39, 18, 25, 13, 7, 1, 13, 28, 23, 3, 10, 38, 9, 11, 12, 2, 2, 33, 10, 38, 38, 16, 1, 23, 5, 9, 17, 8, 25, 26, 21, 10, 15, 4, -1, 25, 8, 13, 35, 16, 25, 9, 19, 42, 20, 8, 15, 25, 15, 4, 7, 17, 11, 38, 38, 1, 11, 3, 1, -1, 1, 38, 29, 1, 26, 4, 1, 1, 4, 1, 17, 4, 1, 1, 10, 35, 5, 3, 27, 9, 1, 16, 14, 12, 35, 38, 20, 35, 1, 3, 10, 5, 24, 32, 13, 5, 18, 27, 19, 11, -1, 9, 10, 27, 4, 5, 35, 15, 12, 8, 2, 5, 38, 5, 2, 9, 10, 14, 12, 4, 26, 35, 10, 4, 5, 14, 13, 10, 9, 18, 4, 13, 3, 15, 9, 14, 2, 4, 17, 33, 7, 6, 3, 42, 4, 1, 26, 38, 2, 11, 13, 16, 2, 16, 25, 4, 12, 17, 31, 36, 13, 20, 13, 12, 1, 10, 35, 38, 35, 11, 10, 26, 38, -1, 5, 18, 12, 28, -1, 14, 26, 38, 10, 9, 1, 38, 13, 22, 3, 4, 5, 5, 14, 14, 2, 13, 42, 5, 6, 3, 38, 5, 8, 35, 15, 13, 3, 5, 10, 22, 2, 30, 9, 11, 14, 25, 35, 4, 22, 25, 5, 12, 2, 10, 17, 13, 13, 1, 14, 3, 38, 4, 1, 4, 13, 7, 1, 2, 23, 4, 10, 4, 30, 4, 9, 2, 7, 7, 10, 11, 5, 8, 33, 18, 13, 7, 4, 2, 3, 38, 28, 3, 12, 12, 38, 16, 38, 38, 13, 3, 33, 7, 34, 11, 5, 18, 18, 11, 4, 9, 5, 38, 28, -1, 2, 38, 13, 39, 8, 3, 8, 10, 14, 18, 4, 3, 15, 36, 38, 2, 13, 34, 11, 25, 13, 2, 7, -1, 3, 13, 4, 7, 25, 4, 8, 10, 31, 9, 1, -1, 12, 29, 31, 2, 7, 12, 25, 9, 18, 16, 11, 18, 7, 2, 1, 10, 13, 13, 1, 9, 37, 20, -1, 19, 12, -1, 2, 28, 2, 33, 13, 34, 14, 13, 25, 38, 5, 4, 24, 38, 6, 35, 11, 1, 2, 15, 1, 38, 25, 13, 10, 25, 26, 13, 12, 11, 9, 9, 39, 8, 31, 13, 2, 17, 19, 21, 23, 17, 2, 14, 10, 28, 16, 11, 36, 8, 4, 10, 37, 32, 25, 8, 2, 3, 29, 32, 25, 17, 2, 26, 2, 7, 9, 8, 33, 4, 9, 14, 42, 12, 3, 38, 4, 31, 11, 9, 4, 26, 17, 38, 13, 23, 26, 3, 12, 13, 4, 31, 12, 33, 13, 7, 33, 10, 14, 9, 13, 2, 7, 24, 5, 2, 4, 9, 4, 13, 35, 35, 13, 26, 13, 1, 13, 15, 25, 8, 6, 13, 32, 10, 7, 38, 7, 14, 38, 1, 22, 26, 2, 1, 12, 8, 12, 3, 12, 17, 19, 42, 9, 10, 2, 6, 9, 2, 5, 2, 5, 3, 10, 9, 8, 31, 12, 10, 38, 38, 8, 5, 3, 8, 4, 31, 5, 2, 12, 35, 31, 3, 38, 14, 17, 9, 13, 1, 30, 40, 13, 18, 9, 3, 13, 35, 4, 13, 35, 15, 2, 24, 13, 8, 2, 38, 4, 17, 38, 1, 2, 28, 25, 5, 27, 12, 20, 38, 25, 13, 12, 4, 33, 23, 11, 13, 1, 6, 10, -1, 23, 12, 38, 11, 1, 38, 18, 4, -1, 2, 38, 13, -1, 5, 21, 9, 4, 8, 25, 2, 11, 33, 14, 13, 9, 9, 17, 12, 9, 8, 11, 5, 4, 0, 4, 10, 13, 28, 18, 10, 39, 2, 3, 22, 35, 16, 26, 35, 7, 18, 3, 25, 16, 35, 25, 4, 9, 1, 11, 1, 11, 36, 42, 1, 12, 4, 26, 3, 38, 34, 8, 3, 2, 11, 25, 25, 9, 3, 35, 3, 26, 5, 2, 38, 27, 14, 17, 12, 10, 7, 35, 3, 18, 25, 18, 10, 2, 11, 11, 4, 38, 38, 13, 20, 8, 26, 10, 12, 30, 13, 1, 4, 13, 1, 12, 33, 1, 31, 35, -1, 7, -1, 10, 2, 31, 10, 28, 9, 25, 36, 15, 38, 3, 17, 10, 12, 15, 13, 17, 29, 22, 12, 4, 17, 17, 8, 2, 10, 16, 33, 22, 35, 2, 38, 14, 11, 1, -1, 35, 22, 24, -1, 15, 3, 5, 4, 38, 12, 11, 3, 10, 19, 24, 9, 11, 12, 3, 5, 6, 3, 33, 13, 12, 4, 33, 5, 15, 18, 21, 26, 40, 7, 13, 1, 5, 10, 10, 17, 24, 14, 4, 10, 4, 11, 13, 8, 15, 30, 10, 14, 1, 11, 9, 2, 1, 5, 2, 38, 12, 8, 2, -1, 23, 11, 17, 9, 13, 23, 7, 25, 4, 7, 35, 2, 41, 35, 22, 10, 13, 38, -1, 8, 38, 4, 15, 7, 9, 22, 30, 12, 38, 7, 4, 38, 13, 13, 10, 38, 33, 1, 21, 38, 4, 9, 8, 37, 12, 42, -1, 25, 9, 10, 2, 5, 16, 3, 9, 33, 18, -1, 1, 30, 10, 8, 7, 1, 4, 5, 1, 8, 2, 5, 5, 14, 4, 35, 15, 9, 33, 12, 36, 7, -1, 42, 18, 9, 7, 7, 12, 26, 33, 15, 31, 8, 18, 13, 18, 4, 2, 10, 5, 11, 4, 8, 2, 33, 9, 33, 33, 9, 8, 4, 1, 10, 15, 11, 23, 4, 38, 12, 7, 3, 1, 12, 14, 4, 17, 24, 8, -1, 13, -1, 9, 2, 14, 17, 9, 25, 38, 17, 15, 38, 13, 10, 4, 0, 25, 33, 9, 11, 11, 5, 4, 33, 18, 17, 17, 20, 13, 5, 23, 4, -1, 4, 5, 1, 10, 2, 7, 4, 0, 25, 5, 1, 17, 10, 4, 6, 37, 4, 32, 32, 35, 41, 13, 38, 35, 25, 2, 21, 38, 8, 9, 2, 12, 25, 14, 28, 9, 14, 1, 25, 10, 42, 35, 8, 25, 36, 4, 25, 4, 31, 11, 3, 31, 2, 9, 23, 5, 2, 9, 12, 7, 10, 10, 29, 10, 4, 8, 13, 12, 4, 8, 18, 12, 2, 16, 1, 4, 18, 4, 31, 13, 5, 18, 25, 8, 25, 39, 38, -1, 14, 28, 23, 8, 12, 10, 2, 10, 13, 10, 3, 3, 1, 13, 4, 26, 2, 9, 3, 39, 21, 3, 10, 12, 10, 28, 1, 9, 4, 7, 15, 32, 35, 13, 2, 16, 3, 25, 8, 31, 29, 20, 38, 38, 9, 38, 11, 10, 25, 0, 21, 15, 14, 4, 11, 4, 13, 17, 18, 18, 26, 2, 26, 9, 1, 4, 25, 18, 3, 22, 11, 12, 31, 13, -1, 36, 23, -1, 2, 30, 8, 8, 1, 11, 10, 22, 31, 4, 40, 2, 31, 35, 25, 38, 17, 39, 42, -1, 4, -1, 11, 10, 10, 2, 31, 25, 22, 38, 7, 25, 10, 22, 4, 2, 12, 17, 1, 25, 9, 12, 3, 8, 38, 33, 38, 21, 34, 17, 18, 11, 4, 9, 2, 3, 14, 17, 1, 24, 9, 9, 11, 8, 3, 2, 18, 17, 28, 9, 28, 12, 14, 13, 8, 26, 1, 1, 17, 4, 18, 13, 3, 34, 12, 2, 22, 1, 18, 16, 25, 1, 35, 25, 30, 14, 35, 26, 2, 20, 38, 5, 7, 14, 25, 28, 2, 5, 1, 26, 25, 42, 1, 13, 4, 3, 11, 25, 31, 13, 11, 25, 38, 5, 12, 2, 20, 18, 8, 12, 18, 12, 2, 9, 25, 36, 9, 10, 8, 2, 4, 42, 1, 4, 5, 29, 4, 2, -1, 18, 13, 25, 12, 12, 12, 2, 39, 4, 10, 12, 2, 3, 10, 38, 35, 5, 33, 28, 1, 6, 42, 25, 2, 2, 15, 8, 36, 26, 2, 3, 32, 6, 7, 14, 1, 1, 13, 4, 1, 2, 15, 17, 2, 10, 25, 5, 31, 4, 11, 2, 5, 2, 13, 13, 10, 38, 1, 18, 9, 35, 38, 35, 13, 18, 31, 18, 22, 18, 7, 38, 33, 14, 28, 8, 38, 13, 7, 9, 9, 35, 11, 13, 35, 3, 33, 38, 8, 38, 12, 9, 2, 33, 3, 13, 5, 35, 23, 12, 4, 1, 5, 5, 31, 11, 9, 7, 17, 1, 18, 25, 30, -1, 13, 2, 4, 5, 3, 22, 16, 29, -1, 15, 39, 3, 1, 11, 1, 3, 38, 18, 39, 13, 17, 38, 5, 2, 10, 11, 12, 8, 13, 25, 3, 1, 38, 13, 11, 26, 11, 3, 11, 25, 9, 2, 26, 35, 1, 1, 9, 10, 36, 9, 2, -1, 31, 4, 3, 13, 13, 13, 2, 5, 10, 35, 9, 4, 7, 41, 25, 17, 4, 15, 3, 16, 13, 4, 31, 3, 17, 8, 17, 38, 14, 20, 13, 41, 1, 1, 11, 15, 3, 36, 10, 10, 16, 2, 24, 23, 2, 17, 3, 4, -1, 5, 7, 1, 12, 4, 11, 13, 4, 22, 8, 1, 2, 38, 13, 31, 9, 8, 25, 2, 18, 11, 11, 17, 13, 17, 2, 14, 5, 31, 36, 3, 10, 13, 23, 4, 38, 31, 3, 8, 2, 30, 12, 12, 36, 13, 14, 10, 2, 14, 17, 38, 4, 37, 35, 2, 23, 7, 1, 26, 38, 3, 17, 15, 3, 6, 13, 3, -1, 17, 13, 4, 24, 7, 8, 19, 9, 5, 4, 4, 7, 17, 38, 13, 14, 30, 12, 9, 8, 13, 8, 38, 11, 33, 38, 11, 8, 14, 17, 35, 3, 40, 25, 7, 7, 13, 1, 25, 38, 25, 9, 5, 11, 12, 1, 25, 1, 31, 19, 3, 16, 10, 12, 11, 7, 2, 2, 4, 35, 5, 22, 7, 9, 16, 1, 8, 38, 5, 1, 3, 38, 23, 5, -1, 9, 12, 13, 30, 7, 2, 4, 7, 26, 4, 1, 8, 17, 6, 15, 37, 12, 8, -1, 12, 16, 25, 14, 5, 1, 13, 38, 1, 35, 13, 11, 13, 2, 4, 38, 25, 25, 4, 23, 10, 3, 3, 5, 42, 37, 2, 10, 13, 23, 35, 38, 3, 10, 22, 2, 18, 36, -1, 15, 16, 31, 31, 16, 35, 9, 35, 38, 7, 17, 12, 4, 3, 1, 11, 8, 32, 38, 25, 17, 33, 10, 17, 10, 4, 3, 4, 5, 17, 4, 1, 2, 11, 7, 1, 2, 2, 36, 33, 8, -1, 25, 34, -1, 16, 12, 42, 18, -1, 12, 9, 9, 11, -1, 3, 38, 8, 12, 7, 2, 14, 1, -1, 12, 5, 17, 25, 12, 18, 9, 42, -1, 3, 11, 3, 15, 10, 32, 5, 5, 8, 14, 2, 3, 2, 31, 2, 36, 11, 17, 14, 2, 5, 13, 6, 5, 4, 7, -1, 20, 32, 12, 33, 28, 1, 17, 13, 17, 8, 23, 38, 1, 10, 11, 28, 2, 18, 1, 38, 8, 7, 38, 17, 4, 31, 3, 17, 5, 8, 10, 9, 41, 1, 26, 13, 10, 20, 10, 11, 7, 8, 13, 39, 25, 1, 31, 9, 12, 2, 12, 4, 17, 31, 9, 5, 7, 22, 9, 31, 1, 7, 18, 12, 22, 13, 10, 10, 10, 40, 2, 10, 10, 7, 11, 1, 14, 10, 38, 32, 7, 8, 25, 11, 38, 17, 14, 10, 4, 25, 35, 12, 11, 12, 10, 25, 18, 29, 2, 36, 7, 38, 5, 11, 13, 13, 4, 31, 12, 5, 22, 5, 24, 9, 7, 42, 1, 3, 1, 9, 12, 36, 25, 2, 16, 15, 10, 38, 1, 5, 35, 12, 3, 24, 25, 15, 9, -1, 17, 5, 38, 5, 12, 26, 5, 10, 28, 25, 36, 1, 12, 10, 14, 36, 7, 34, 9, 12, 35, 1, 4, 1, 31, 25, 31, 20, 25, 11, 8, 35, 3, 34, 13, 4, -1, 31, 2, 12, 21, 4, 25, 30, 35, 10, 4, 41, 27, 4, 3, 11, 35, 13, 13, 35, 7, 2, 38, -1, 5, 2, 38, 25, 24, 16, 13, 13, -1, 36, 13, -1, 30, 14, 9, 3, 5, 8, 5, 6, 15, 38, 11, 19, 30, 4, 19, 18, 31, 14, 12, 38, 12, 8, 2, 2, 38, 35, 8, 12, 2, 31, 10, 31, 8, -1, 10, 1, 10, 5, 14, 2, 36, 38, 32, 13, 34, 2, 33, 11, 3, 9, 3, 2, 9, 12, 12, 13, 30, 13, 41, 15, 12, 22, 2, 13, -1, 29, 2, 1, -1, 8, 38, 39, 31, 20, 1, 10, -1, 19, 5, 37, 38, 1, 17, 4, 38, 8, 25, 9, 33, 1, 18, 18, 24, 11, 4, 7, 13, 20, 1, 38, 5, 12, 26, 13, -1, 33, 18, -1, 37, 26, 11, 10, 2, 38, 38, 17, 10, 8, 5, 12, 8, 13, 14, 5, 31, -1, 13, 9, 17, 31, 5, 15, 33, 8, 4, 9, 18, 5, 5, 2, 4, 22, 13, 9, 26, 4, 1, 16, 13, 1, 4, 9, 10, 14, -1, 2, 28, 5, 1, 5, 21, 8, 4, 10, 2, 16, 13, 7, 1, 7, 35, 7, 4, 17, 1, 14, 13, 39, 23, 7, 8, 4, 1, 4, 25, 12, -1, 4, 13, 35, 7, 8, 7, 2, 38, 30, 10, 2, 3, 13, 33, 6, 15, 16, -1, 10, 26, 38, 24, 15, 11, 35, 14, 6, 14, 11, 24, 28, 1, 42, 5, 25, 23, 37, 7, 14, 13, 25, 9, 38, 2, 11, 4, 1, 5, 10, 3, 3, 14, 38, 36, 24, 12, 7, 5, 7, 2, 17, 25, 36, 13, 25, 5, 3, 1, 9, 18, 1, 18, 31, 10, 10, 7, 24, 13, 35, 33, 13, 14, 3, 23, 33, 5, 5, 8, 34, 35, 38, 26, 0, 2, 31, 25, 31, 16, 3, 23, 29, 33, 35, 12, 17, 11, 10, 10, 35, 15, 23, 13, 40, 7, 8, -1, 8, 4, 38, 6, 30, 14, 12, 13, 5, 34, -1, 3, 13, 22, 15, 31, 1, 21, 18, 3, 25, 23, 7, 39, 3, 14, 20, 12, 16, 0, 1, 6, 4, 35, 35, 38, 3, 3, 36, 6, 17, 7, 13, 38, 35, 12, 21, 11, 0, 8, 8, 9, 1, 2, 17, -1, 3, 13, 5, 11, 13, 4, 0, 2, 8, 4, 19, 18, 33, 1, 0, 39, 8, 10, 10, 31, 10, 5, 25, 18, 5, 13, 17, -1, 9, 33, 2, 1, 30, 12, 31, 40, 18, 4, 7, 18, 9, 1, 5, 31, 42, 1, 9, 9, 15, 33, 33, 5, 17, 27, 12, 25, 2, 38, 9, 40, 33, 9, 35, 9, 12, 11, 1, 4, -1, 34, 5, 2, 18, -1, 13, 0, 18, 2, 5, 26, 10, 13, 10, 4, 8, 26, 2, 9, 10, 3, 25, 41, 16, 8, 14, 7, 10, 23, 13, 9, 12, 12, 8, 38, 15, 9, 11, 38, 14, 1, 25, 1, 20, 9, 26, 23, 2, 38, 12, 3, 20, 12, 13, 38, 10, 22, 3, 30, 35, 17, 11, 18, 4, 33, 17, 9, 9, 25, 36, 6, 3, 13, -1, 5, 7, 4, 4, 2, 38, 20, 4, 8, 22, 3, 3, 8, 14, 4, 7, 18, 28, 13, 18, 1, 34, 25, 7, 4, 16, 11, 38, 10, 2, 22, 2, 8, 8, 38, 22, 25, 38, 17, 8, 38, 1, 2, 6, 7, 18, 9, 3, 10, 11, 8, 31, 11, 9, 16, 17, 8, 8, 23, 2, 3, 2, 5, 2, 5, 22, 38, 22, 22, 13, 3, 22, 14, 12, 2, 24, 14, 10, 42, 7, 15, 8, 12, -1, 13, 10, 1, 12, 4, 7, 8, -1, 13, 38, 17, 7, 2, 4, 39, -1, 36, 9, 1, 12, 9, 28, 5, 38, 2, 2, 1, 9, 20, -1, 1, 3, 41, 9, 13, 37, 13, 33, 4, 35, 35, 5, 35, 25, 9, 2, 26, 17, 35, 12, 18, 37, 31, 38, 16, 1, 38, -1, 12, 35, 10, 10, 20, 2, 3, 18, 1, -1, 33, 2, 3, 18, 16, 42, 38, 13, 1, 2, 4, 24, 19, 4, 24, 1, 11, 7, -1, 18, 8, 6, 1, 2, 31, 12, 12, 25, 15, -1, 13, 1, 16, 5, 32, 38, 8, 25, 35, 8, 25, 8, 40, 2, 5, 3, 38, 31, 5, 38, 5, 10, 3, 38, 13, 5, 26, 1, 2, 8, -1, 7, 25, 18, 10, 25, 13, 5, 26, 15, 25, 2, 17, 10, 39, 2, 1, -1, 35, 25, 4, -1, 18, 14, 8, 3, 17, 2, 26, 2, 10, 40, 13, 11, 25, 25, 1, 17, 36, 23, 35, 3, 23, 9, 38, 38, 2, -1, 14, 38, 7, 25, 5, 2, 12, 4, 38, 11, 28, 28, 1, 12, -1, 1, 25, 39, 25, 13, 8, 3, 19, 20, 9, -1, 31, 7, 28, 2, 35, 17, 12, 5, 11, 31, 1, 31, 10, 35, 18, 14, 15, 2, 12, 5, 2, 15, 18, 23, 9, -1, 24, -1, 18, 1, 10, 35, 7, 2, 17, 39, 7, -1, 38, 1, 5, 16, 9, 26, 8, 4, 8, 13, 10, 42, 13, 38, 9, 25, 13, 12, 5, 1, 36, 8, 2, 2, 2, 31, 11, 9, 19, 22, 4, 7, 31, 12, 26, 2, 26, 18, 9, 3, 5, 9, 5, 2, 10, 38, 9, 7, 14, 25, 25, 36, 24, 4, 18, 36, 3, 24, 4, 12, 5, 40, 2, 3, 20, 15, 13, 13, 20, 5, 1, 39, 2, 35, -1, 5, 37, 11, 2, -1, 19, -1, 12, 5, 37, 9, 8, 33, 36, -1, 13, 12, 13, 5, 13, 2, 7, 11, -1, 3, 25, 1, 38, 13, 24, 3, 28, 2, 9, -1, 28, 2, -1, 10, 12, 33, 12, 11, 1, 1, 11, 15, 9, 38, 13, 4, 13, 5, 1, 10, 4, 9, 10, 12, 39, 3, 38, 31, 28, 2, 4, 2, 41, 6, 20, 35, 9, 10, 3, 9, 1, -1, 4, 7, 31, 23, 22, 11, 41, 10, 13, 6, 26, 9, 26, 1, 3, 33, 31, 16, 40, 40, 29, 5, 5, 18, 15, 3, 13, 12, 10, 10, 28, 15, 25, 7, 31, 35, 5, 32, 16, 33, 17, 10, 21, 14, 12, 4, 3, 4, 8, 1, 18, 3, 9, 29, 5, 3, 31, 3, 40, 30, 5, 19, 3, 38, 5, 2, 35, 5, 13, 17, 5, 38, 4, 7, 3, 4, 34, 38, 9, 33, 38, 32, 3, 38, 38, 42, 25, 25, 14, 34, 26, 1, 12, 4, 33, 10, 3, 10, 10, 13, 15, 31, 3, 1, 2, 18, 4, 33, 20, 3, 15, 33, 38, 2, 5, 13, 14, 13, 1, 25, 28, 24, 5, 25, 38, 4, 13, 2, 38, -1, 25, -1, 5, 1, 22, 5, 7, 6, 12, 16, 3, 35, 1, 9, 7, 8, 30, 23, 2, 39, 23, 10, 11, 1, 2, 15, -1, 7, 2, 18, 11, 9, 20, 2, 9, 3, 1, 11, 8, 10, 6, 10, 3, 25, 5, 22, 3, 12, 25, 13, 10, 35, 10, 35, 38, 24, 13, 35, 25, 38, 1, 26, 7, 35, 11, 39, 8, 0, 10, -1, 31, 8, 31, 13, 5, 12, 35, 25, 12, 33, 5, 7, 10]\n"
     ]
    }
   ],
   "source": [
    "#testing accuracy on test dataset\n",
    "from sklearn.metrics import accuracy_score\n",
    "\n",
    "y_test = pd.read_csv('Test.csv')\n",
    "\n",
    "labels = y_test[\"ClassId\"].values\n",
    "imgs = y_test[\"Path\"].values\n",
    "\n",
    "data=[]\n",
    "\n",
    "for img in imgs:\n",
    "    image = Image.open(img)\n",
    "    image = image.resize((30,30))\n",
    "    data.append(np.array(image))\n",
    "\n",
    "X_test=np.array(data)\n",
    "\n",
    "pred = model.predict(X_test)\n",
    "pred = np.round(pred).astype(int)\n",
    "pred = pred.tolist()\n",
    "y_pred = []\n",
    "for i in pred:\n",
    "    try:\n",
    "        y_pred.append(i.index(1))\n",
    "    except:\n",
    "        y_pred.append(-1)\n",
    "# pred = [i.index(1) for i in pred]"
   ]
  },
  {
   "cell_type": "code",
   "execution_count": 31,
   "id": "8befcbb9",
   "metadata": {},
   "outputs": [
    {
     "name": "stdout",
     "output_type": "stream",
     "text": [
      "Accuracy Score 0.9479809976247031\n"
     ]
    }
   ],
   "source": [
    "#Accuracy with the test data\n",
    "from sklearn.metrics import accuracy_score\n",
    "print(\"Accuracy Score\" ,accuracy_score(labels, y_pred))"
   ]
  },
  {
   "cell_type": "code",
   "execution_count": 2,
   "id": "1e56f387",
   "metadata": {},
   "outputs": [
    {
     "ename": "NameError",
     "evalue": "name 'model' is not defined",
     "output_type": "error",
     "traceback": [
      "\u001b[1;31m---------------------------------------------------------------------------\u001b[0m",
      "\u001b[1;31mNameError\u001b[0m                                 Traceback (most recent call last)",
      "\u001b[1;32mC:\\Users\\SAKETH~1\\AppData\\Local\\Temp/ipykernel_7796/3672861215.py\u001b[0m in \u001b[0;36m<module>\u001b[1;34m\u001b[0m\n\u001b[1;32m----> 1\u001b[1;33m \u001b[0mmodel\u001b[0m\u001b[1;33m.\u001b[0m\u001b[0msave\u001b[0m\u001b[1;33m(\u001b[0m\u001b[1;34m\"traffic_classifier.h5\"\u001b[0m\u001b[1;33m)\u001b[0m\u001b[1;33m\u001b[0m\u001b[1;33m\u001b[0m\u001b[0m\n\u001b[0m",
      "\u001b[1;31mNameError\u001b[0m: name 'model' is not defined"
     ]
    }
   ],
   "source": [
    "model.save(\"traffic_classifier.h5\")"
   ]
  },
  {
   "cell_type": "code",
   "execution_count": 1,
   "id": "913524a6",
   "metadata": {},
   "outputs": [],
   "source": [
    "from tensorflow.keras.models import load_model\n",
    "model = load_model('traffic_classifier.h5')"
   ]
  },
  {
   "cell_type": "code",
   "execution_count": 2,
   "id": "99575f66",
   "metadata": {},
   "outputs": [
    {
     "name": "stdout",
     "output_type": "stream",
     "text": [
      "Model: \"sequential\"\n",
      "_________________________________________________________________\n",
      "Layer (type)                 Output Shape              Param #   \n",
      "=================================================================\n",
      "conv2d (Conv2D)              (None, 26, 26, 32)        2432      \n",
      "_________________________________________________________________\n",
      "conv2d_1 (Conv2D)            (None, 22, 22, 32)        25632     \n",
      "_________________________________________________________________\n",
      "max_pooling2d (MaxPooling2D) (None, 11, 11, 32)        0         \n",
      "_________________________________________________________________\n",
      "dropout (Dropout)            (None, 11, 11, 32)        0         \n",
      "_________________________________________________________________\n",
      "conv2d_2 (Conv2D)            (None, 9, 9, 64)          18496     \n",
      "_________________________________________________________________\n",
      "conv2d_3 (Conv2D)            (None, 7, 7, 64)          36928     \n",
      "_________________________________________________________________\n",
      "max_pooling2d_1 (MaxPooling2 (None, 3, 3, 64)          0         \n",
      "_________________________________________________________________\n",
      "dropout_1 (Dropout)          (None, 3, 3, 64)          0         \n",
      "_________________________________________________________________\n",
      "flatten (Flatten)            (None, 576)               0         \n",
      "_________________________________________________________________\n",
      "dense (Dense)                (None, 256)               147712    \n",
      "_________________________________________________________________\n",
      "dropout_2 (Dropout)          (None, 256)               0         \n",
      "_________________________________________________________________\n",
      "dense_1 (Dense)              (None, 43)                11051     \n",
      "=================================================================\n",
      "Total params: 242,251\n",
      "Trainable params: 242,251\n",
      "Non-trainable params: 0\n",
      "_________________________________________________________________\n"
     ]
    }
   ],
   "source": [
    "model.summary()"
   ]
  },
  {
   "cell_type": "code",
   "execution_count": 24,
   "id": "86f1d8e9",
   "metadata": {},
   "outputs": [],
   "source": [
    "from sklearn import metrics\n",
    "from sklearn.metrics import r2_score"
   ]
  },
  {
   "cell_type": "code",
   "execution_count": 28,
   "id": "ef6099d7",
   "metadata": {},
   "outputs": [
    {
     "name": "stdout",
     "output_type": "stream",
     "text": [
      "r2_score: 0.8545821340458495\n",
      "MAE: 0.8394299287410927\n",
      "RMSE: 4.5556991010477645\n"
     ]
    }
   ],
   "source": [
    "print('r2_score:' , r2_score(labels,y_pred))\n",
    "print('MAE:' , metrics.mean_absolute_error(labels , y_pred) )\n",
    "print('RMSE:' , np.sqrt(metrics.mean_squared_error(labels,y_pred)))"
   ]
  },
  {
   "cell_type": "code",
   "execution_count": null,
   "id": "4d5eff76",
   "metadata": {},
   "outputs": [],
   "source": []
  }
 ],
 "metadata": {
  "kernelspec": {
   "display_name": "Python 3 (ipykernel)",
   "language": "python",
   "name": "python3"
  },
  "language_info": {
   "codemirror_mode": {
    "name": "ipython",
    "version": 3
   },
   "file_extension": ".py",
   "mimetype": "text/x-python",
   "name": "python",
   "nbconvert_exporter": "python",
   "pygments_lexer": "ipython3",
   "version": "3.7.9"
  }
 },
 "nbformat": 4,
 "nbformat_minor": 5
}
